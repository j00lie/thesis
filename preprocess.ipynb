{
 "cells": [
  {
   "cell_type": "markdown",
   "metadata": {},
   "source": [
    "Notebook for preprocessing the MRI data. "
   ]
  },
  {
   "cell_type": "markdown",
   "metadata": {},
   "source": [
    "Get dependecies and initialise variables. "
   ]
  },
  {
   "cell_type": "code",
   "execution_count": 1,
   "metadata": {},
   "outputs": [],
   "source": [
    "import nibabel as nib\n",
    "import numpy as np\n",
    "from scipy.ndimage import zoom\n",
    "from glob import glob\n",
    "import matplotlib.pyplot as plt\n",
    "from tqdm import tqdm\n",
    "import random\n",
    "\n",
    "\n",
    "IMG_WIDTH = 64\n",
    "IMG_HEIGHT = 64\n",
    "IMG_DEPTH = 64\n",
    "IMG_CHANNELS = 1\n",
    "SEED = 42\n",
    "random.seed(SEED)"
   ]
  },
  {
   "cell_type": "markdown",
   "metadata": {},
   "source": [
    "Create a helper function to load resize the Nifti files. Returns the images in 3D numpy arrays along with the original image dimensions for some sanity checking. "
   ]
  },
  {
   "cell_type": "code",
   "execution_count": 2,
   "metadata": {},
   "outputs": [],
   "source": [
    "def load_and_resize_nifti(file_path, target_shape=(IMG_WIDTH, IMG_HEIGHT, IMG_DEPTH)):\n",
    "    # Load the image with memmap option for efficient reading\n",
    "    nifti_img = nib.load(file_path, mmap=True)\n",
    "\n",
    "    # Get the data as a memory-mapped array\n",
    "    data = nifti_img.get_fdata()\n",
    "\n",
    "    # Calculate the zoom factors\n",
    "    zoom_factors = [t / s for t, s in zip(target_shape, data.shape)]\n",
    "\n",
    "    # Resize the image\n",
    "    resized_data = zoom(\n",
    "        data, zoom_factors, order=1\n",
    "    )  # Use bilinear interpolation (order=1)\n",
    "\n",
    "    return resized_data, data.shape\n"
   ]
  },
  {
   "cell_type": "markdown",
   "metadata": {},
   "source": [
    "Insert directories to the Nifti files. "
   ]
  },
  {
   "cell_type": "code",
   "execution_count": 3,
   "metadata": {},
   "outputs": [],
   "source": [
    "\n",
    "mri_directory_path = r\"C:\\Users\\joona\\Documents\\LUT\\bsc_thesis\\bsc_thesis_data_nifti_t1\\vs_gk_*[0-9]*\\vs_gk_t1_refT1.nii.gz\"\n",
    "mri_paths = sorted(glob(mri_directory_path, recursive=True))\n",
    "\n",
    "mask_directory_path = r\"C:\\Users\\joona\\Documents\\LUT\\bsc_thesis\\bsc_thesis_data_nifti_t1\\vs_gk_*[0-9]*\\vs_gk_seg_refT1.nii.gz\"\n",
    "mask_paths = sorted(glob(mask_directory_path, recursive=True))\n"
   ]
  },
  {
   "cell_type": "markdown",
   "metadata": {},
   "source": [
    "Check for duplicates in the directory paths. "
   ]
  },
  {
   "cell_type": "code",
   "execution_count": 4,
   "metadata": {},
   "outputs": [
    {
     "name": "stdout",
     "output_type": "stream",
     "text": [
      "The MRI paths contain duplicates: False\n",
      "The Mask paths contain duplicates: False\n"
     ]
    }
   ],
   "source": [
    "def has_duplicates(lst):\n",
    "    return len(lst) != len(set(lst))\n",
    "\n",
    "print(\"The MRI paths contain duplicates: \" + str(has_duplicates(mri_paths)))\n",
    "print(\"The Mask paths contain duplicates: \" + str(has_duplicates(mask_paths)))\n"
   ]
  },
  {
   "cell_type": "markdown",
   "metadata": {},
   "source": [
    "Load the data. Wrap the loops in tqdm for a progress bar. "
   ]
  },
  {
   "cell_type": "code",
   "execution_count": 5,
   "metadata": {},
   "outputs": [
    {
     "name": "stderr",
     "output_type": "stream",
     "text": [
      "100%|██████████| 242/242 [01:48<00:00,  2.22it/s]\n",
      "100%|██████████| 242/242 [01:01<00:00,  3.96it/s]\n"
     ]
    }
   ],
   "source": [
    "mris = []\n",
    "mri_dims = []\n",
    "for path in tqdm(mri_paths):\n",
    "    mri, orig_dims = load_and_resize_nifti(path)\n",
    "    mris.append(mri)\n",
    "    mri_dims.append(orig_dims)\n",
    "masks = []\n",
    "mask_dims = []\n",
    "for path in tqdm(mask_paths):\n",
    "    mask, orig_mask_dims = load_and_resize_nifti(path)\n",
    "    masks.append(mask)\n",
    "    mask_dims.append(orig_mask_dims)"
   ]
  },
  {
   "cell_type": "markdown",
   "metadata": {},
   "source": [
    "Check the original image dimensions. "
   ]
  },
  {
   "cell_type": "code",
   "execution_count": 6,
   "metadata": {},
   "outputs": [
    {
     "name": "stdout",
     "output_type": "stream",
     "text": [
      "Unique Widths and Their Counts:\n",
      "512: 242\n",
      "\n",
      "Unique Heights and Their Counts:\n",
      "512: 242\n",
      "\n",
      "Unique Depths and Their Counts:\n",
      "120: 224\n",
      "160: 18\n",
      "Unique Widths and Their Counts:\n",
      "512: 242\n",
      "\n",
      "Unique Heights and Their Counts:\n",
      "512: 242\n",
      "\n",
      "Unique Depths and Their Counts:\n",
      "120: 224\n",
      "160: 18\n"
     ]
    }
   ],
   "source": [
    "# Convert list of tuples to numpy array\n",
    "mri_dims_arr = np.array(mri_dims)\n",
    "mask_dims_arr = np.array(mask_dims)\n",
    "\n",
    "\n",
    "# Check the original shapes of the 3D image arrays\n",
    "def print_shapes(dim_array):\n",
    "    # Extract unique widths and their counts\n",
    "    unique_widths, counts_widths = np.unique(dim_array[:, 0], return_counts=True)\n",
    "\n",
    "    # Extract unique heights and their counts\n",
    "    unique_heights, counts_heights = np.unique(dim_array[:, 1], return_counts=True)\n",
    "\n",
    "    # Extract unique depths and their counts\n",
    "    unique_depths, counts_depths = np.unique(dim_array[:, 2], return_counts=True)\n",
    "\n",
    "    print(\"Unique Widths and Their Counts:\")\n",
    "    for width, count in zip(unique_widths, counts_widths):\n",
    "        print(f\"{width}: {count}\")\n",
    "\n",
    "    print(\"\\nUnique Heights and Their Counts:\")\n",
    "    for height, count in zip(unique_heights, counts_heights):\n",
    "        print(f\"{height}: {count}\")\n",
    "\n",
    "    print(\"\\nUnique Depths and Their Counts:\")\n",
    "    for depth, count in zip(unique_depths, counts_depths):\n",
    "        print(f\"{depth}: {count}\")\n",
    "\n",
    "\n",
    "print_shapes(mri_dims_arr)\n",
    "print_shapes(mask_dims_arr)"
   ]
  },
  {
   "cell_type": "markdown",
   "metadata": {},
   "source": [
    "Transform masks to boolean. "
   ]
  },
  {
   "cell_type": "code",
   "execution_count": 7,
   "metadata": {},
   "outputs": [],
   "source": [
    "for i, mask in enumerate(masks):\n",
    "    masks[i] = np.array(mask, dtype=bool)"
   ]
  },
  {
   "cell_type": "markdown",
   "metadata": {},
   "source": [
    "Create a helper function to plot image sanity. The masks should correlate with the tumors in the image. "
   ]
  },
  {
   "cell_type": "code",
   "execution_count": 8,
   "metadata": {},
   "outputs": [],
   "source": [
    "# randomly check that masks and image correlate\n",
    "def imgSanity(imgArray, maskArray):\n",
    "    # Randomly select an image stack\n",
    "    r_numb = random.randrange(0, len(imgArray))\n",
    "\n",
    "    img_stack = imgArray[r_numb]\n",
    "    mask_stack = maskArray[r_numb]\n",
    "\n",
    "    # Loop until a slice with a mask is found\n",
    "    while True:\n",
    "        r_numb_2 = random.randrange(0, IMG_DEPTH)  # choose random slice from stack\n",
    "        mask_slice = mask_stack[:, :, r_numb_2]\n",
    "\n",
    "        # Check if the mask slice contains any True values (indicating a mask)\n",
    "        if np.any(mask_slice):\n",
    "            break\n",
    "\n",
    "    # Extract the chosen slice from the image\n",
    "    img_slice = img_stack[:, :, r_numb_2]\n",
    "\n",
    "    # Display the image slice\n",
    "    plt.imshow(img_slice, cmap=\"gray\")\n",
    "\n",
    "    # # Create a colored overlay using the jet colormap only for the mask region\n",
    "    # overlay = plt.cm.jet(mask_slice.astype(float))\n",
    "\n",
    "    # # Set the alpha channel to zero where the mask is False (making it transparent)\n",
    "    # overlay[~mask_slice, -1] = 0  # Set alpha channel to zero\n",
    "\n",
    "    # # Overlay the colored mask on the image\n",
    "    # plt.imshow(overlay, alpha=0.5)\n",
    "    # Overlay the contour on the image\n",
    "    plt.contour(mask_slice, colors=\"r\", linewidths=0.5)\n",
    "    plt.show()\n"
   ]
  },
  {
   "cell_type": "code",
   "execution_count": 10,
   "metadata": {},
   "outputs": [
    {
     "data": {
      "image/png": "[encoded data removed]",
      "text/plain": [
       "<Figure size 640x480 with 1 Axes>"
      ]
     },
     "metadata": {},
     "output_type": "display_data"
    }
   ],
   "source": [
    "imgSanity(mris, masks)"
   ]
  },
  {
   "cell_type": "markdown",
   "metadata": {},
   "source": [
    "Transform the lists into numpy arrays and save. "
   ]
  },
  {
   "cell_type": "code",
   "execution_count": 11,
   "metadata": {},
   "outputs": [],
   "source": [
    "mris = np.array(mris, dtype=np.float32)\n",
    "masks = np.array(masks, dtype=np.float32)\n",
    "\n"
   ]
  },
  {
   "cell_type": "code",
   "execution_count": 12,
   "metadata": {},
   "outputs": [],
   "source": [
    "mris_path = r\"C:\\Users\\joona\\Documents\\LUT\\bsc_thesis\\bsc_thesis_data_t1_numpy\\mris_dataset.npy\"\n",
    "masks_path = r\"C:\\Users\\joona\\Documents\\LUT\\bsc_thesis\\bsc_thesis_data_t1_numpy\\masks_dataset.npy\"\n",
    "# Save as .npy files\n",
    "np.save(mris_path, mris)\n",
    "np.save(masks_path, masks)"
   ]
  }
 ],
 "metadata": {
  "kernelspec": {
   "display_name": "ai",
   "language": "python",
   "name": "python3"
  },
  "language_info": {
   "codemirror_mode": {
    "name": "ipython",
    "version": 3
   },
   "file_extension": ".py",
   "mimetype": "text/x-python",
   "name": "python",
   "nbconvert_exporter": "python",
   "pygments_lexer": "ipython3",
   "version": "3.10.11"
  },
  "orig_nbformat": 4
 },
 "nbformat": 4,
 "nbformat_minor": 2
}
