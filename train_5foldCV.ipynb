{
  "cells": [
    {
      "cell_type": "markdown",
      "metadata": {
        "id": "StWjpKEYmJdU"
      },
      "source": [
        "Notebook for training a 3D U-Net for vestibular schwannoma segmentation."
      ]
    },
    {
      "cell_type": "code",
      "execution_count": null,
      "metadata": {
        "colab": {
          "base_uri": "https://localhost:8080/",
          "height": 1000
        },
        "id": "lU6VDAkTmkx9",
        "outputId": "8d77cb07-dd24-4e8e-e79f-7137bdeee76d"
      },
      "outputs": [],
      "source": [
        "# This cell is for Colab runs\n",
        "\n",
        "!pip install tensorflow==2.10.1  # same version of tf used in local testing, Colab default (2.13) gives import errors with segmentation models library\n",
        "\n",
        "!pip install segmentation_models_3D"
      ]
    },
    {
      "cell_type": "code",
      "execution_count": 1,
      "metadata": {
        "id": "j_GT3CtvmJdW"
      },
      "outputs": [
        {
          "name": "stdout",
          "output_type": "stream",
          "text": [
            "Segmentation Models: using `tf.keras` framework.\n"
          ]
        }
      ],
      "source": [
        "import numpy as np\n",
        "import matplotlib.pyplot as plt\n",
        "import random\n",
        "from sklearn.model_selection import train_test_split, KFold\n",
        "import tensorflow as tf\n",
        "import pandas as pd\n",
        "import segmentation_models_3D as sm\n",
        "import att_res_unet"
      ]
    },
    {
      "cell_type": "code",
      "execution_count": 2,
      "metadata": {
        "colab": {
          "base_uri": "https://localhost:8080/"
        },
        "id": "xTIBnJNQmJdW",
        "outputId": "1cbca814-2332-4f47-81bb-74f16d20c45d"
      },
      "outputs": [
        {
          "name": "stdout",
          "output_type": "stream",
          "text": [
            "Num GPUs Available:  1\n"
          ]
        }
      ],
      "source": [
        "print(\"Num GPUs Available: \", len(tf.config.list_physical_devices(\"GPU\")))"
      ]
    },
    {
      "cell_type": "code",
      "execution_count": 3,
      "metadata": {
        "id": "LZRf7ByUmJdW"
      },
      "outputs": [],
      "source": [
        "IMG_WIDTH = 64\n",
        "IMG_HEIGHT = 64\n",
        "IMG_DEPTH = 64\n",
        "IMG_CHANNELS = 1\n",
        "SEED = 42\n",
        "random.seed(SEED)"
      ]
    },
    {
      "cell_type": "markdown",
      "metadata": {
        "id": "ZdJr-ZaYrT2n"
      },
      "source": [
        "Connect to Drive if running on Colab."
      ]
    },
    {
      "cell_type": "code",
      "execution_count": null,
      "metadata": {
        "colab": {
          "base_uri": "https://localhost:8080/"
        },
        "id": "uYNiCHTlrMR9",
        "outputId": "11ea1975-9141-490d-bcd6-0ef4edfa2b82"
      },
      "outputs": [],
      "source": [
        "from google.colab import drive\n",
        "drive.mount('/content/drive')"
      ]
    },
    {
      "cell_type": "markdown",
      "metadata": {
        "id": "4FrPdpv2mJdX"
      },
      "source": [
        "Load the data."
      ]
    },
    {
      "cell_type": "code",
      "execution_count": 4,
      "metadata": {
        "id": "yl8LTa4imJdY"
      },
      "outputs": [],
      "source": [
        "#Colab data paths\n",
        "# mris_path = \"/content/drive/MyDrive/bsc_thesis_data_t1_numpy/mris_dataset.npy\"\n",
        "# masks_path = \"/content/drive/MyDrive/bsc_thesis_data_t1_numpy/masks_dataset.npy\"\n",
        "\n",
        "# Paths on local machine\n",
        "mris_path = r\"C:\\Users\\joona\\Documents\\LUT\\bsc_thesis\\bsc_thesis_data_t1_numpy\\mris_dataset_64.npy\"\n",
        "masks_path = r\"C:\\Users\\joona\\Documents\\LUT\\bsc_thesis\\bsc_thesis_data_t1_numpy\\masks_dataset_64.npy\"\n",
        "\n",
        "mris = np.load(mris_path)\n",
        "masks = np.load(masks_path)\n",
        "\n"
      ]
    },
    {
      "cell_type": "code",
      "execution_count": 5,
      "metadata": {
        "colab": {
          "base_uri": "https://localhost:8080/"
        },
        "id": "QlGf1S_tmJdY",
        "outputId": "45fd6c78-7f6a-4598-fcb4-3fd7c062c6ef"
      },
      "outputs": [
        {
          "data": {
            "text/plain": [
              "(242, 64, 64, 64)"
            ]
          },
          "execution_count": 5,
          "metadata": {},
          "output_type": "execute_result"
        }
      ],
      "source": [
        "mris.shape"
      ]
    },
    {
      "cell_type": "code",
      "execution_count": 6,
      "metadata": {
        "colab": {
          "base_uri": "https://localhost:8080/"
        },
        "id": "i5paLUzEmJdZ",
        "outputId": "c336b95e-a549-4074-81f2-e56c696581c7"
      },
      "outputs": [
        {
          "data": {
            "text/plain": [
              "(242, 64, 64, 64)"
            ]
          },
          "execution_count": 6,
          "metadata": {},
          "output_type": "execute_result"
        }
      ],
      "source": [
        "masks.shape"
      ]
    },
    {
      "cell_type": "markdown",
      "metadata": {
        "id": "kd44pjqimJdZ"
      },
      "source": [
        "Normalise the data."
      ]
    },
    {
      "cell_type": "code",
      "execution_count": 7,
      "metadata": {
        "id": "nhejQjmSmJda"
      },
      "outputs": [],
      "source": [
        "# def normalize_3d_image(img):\n",
        "#     return (img - img.min()) / (img.max() - img.min())\n",
        "\n",
        "\n",
        "def standardize_3d_image(img):\n",
        "    \"\"\"\n",
        "    Standardize a 3D image using Z-score normalization.\n",
        "\n",
        "    Parameters:\n",
        "    - img: 3D numpy array representing the MRI image.\n",
        "\n",
        "    Returns:\n",
        "    - standardized_img: 3D numpy array representing the standardized MRI image.\n",
        "    \"\"\"\n",
        "    mean = np.mean(img)\n",
        "    std = np.std(img)\n",
        "    standardized_img = (img - mean) / std\n",
        "    return standardized_img"
      ]
    },
    {
      "cell_type": "markdown",
      "metadata": {
        "id": "O8w_wdWyBbSo"
      },
      "source": [
        "Normalise the data and print out the min and max pixel intensities before and after."
      ]
    },
    {
      "cell_type": "code",
      "execution_count": 8,
      "metadata": {
        "colab": {
          "base_uri": "https://localhost:8080/"
        },
        "id": "8IfxQbypmJda",
        "outputId": "1b011fa9-8d49-418d-db1c-66004c8fecf1"
      },
      "outputs": [
        {
          "name": "stdout",
          "output_type": "stream",
          "text": [
            "-195.05598\n",
            "4172.222\n"
          ]
        }
      ],
      "source": [
        "print(np.min(mris))\n",
        "print(np.max(mris))"
      ]
    },
    {
      "cell_type": "code",
      "execution_count": 9,
      "metadata": {
        "id": "6PchOp_pmJdb"
      },
      "outputs": [],
      "source": [
        "for i in range(mris.shape[0]):\n",
        "    mris[i] = standardize_3d_image(mris[i])"
      ]
    },
    {
      "cell_type": "code",
      "execution_count": 10,
      "metadata": {
        "colab": {
          "base_uri": "https://localhost:8080/"
        },
        "id": "lWupmakDmJdb",
        "outputId": "e1d796f5-4531-4bcb-88c0-3d35d58f3192"
      },
      "outputs": [
        {
          "name": "stdout",
          "output_type": "stream",
          "text": [
            "-1.4170647\n",
            "10.592862\n"
          ]
        }
      ],
      "source": [
        "print(np.min(mris))\n",
        "print(np.max(mris))"
      ]
    },
    {
      "cell_type": "code",
      "execution_count": 11,
      "metadata": {},
      "outputs": [],
      "source": [
        "# Create an array of indices corresponding to the original dataset\n",
        "indices = np.arange(len(mris))\n",
        "\n",
        "X_train, X_test, Y_train, Y_test, train_indices, test_indices = train_test_split(\n",
        "    mris, masks, indices, test_size=0.20, shuffle=True, random_state=SEED\n",
        ")"
      ]
    },
    {
      "cell_type": "markdown",
      "metadata": {
        "id": "Ox7oVFDxmJdc"
      },
      "source": [
        "Function for building the model using segmentation models library."
      ]
    },
    {
      "cell_type": "code",
      "execution_count": 12,
      "metadata": {
        "id": "Jzv6w1e1mJdc"
      },
      "outputs": [],
      "source": [
        "def build():\n",
        "\n",
        "  model = sm.Unet(\n",
        "      \"resnet34\",\n",
        "      input_shape=(IMG_WIDTH, IMG_HEIGHT, IMG_DEPTH, IMG_CHANNELS),\n",
        "      encoder_weights=None,\n",
        "      activation=\"sigmoid\",\n",
        "  )\n",
        "\n",
        "\n",
        "  dice_loss = sm.losses.DiceLoss()\n",
        "  bce_loss = sm.losses.BinaryCELoss()\n",
        "  total_loss = dice_loss + bce_loss\n",
        "\n",
        "\n",
        "  initial_learning_rate = 0.001\n",
        "  lr_schedule = tf.keras.optimizers.schedules.ExponentialDecay(\n",
        "      initial_learning_rate, decay_steps=100000, decay_rate=0.96, staircase=True\n",
        "  )\n",
        "  model.compile(\n",
        "      optimizer=tf.keras.optimizers.Adam(learning_rate=lr_schedule),\n",
        "      loss=total_loss,\n",
        "      metrics=[sm.metrics.IOUScore()],\n",
        "  )\n",
        "  return model"
      ]
    },
    {
      "cell_type": "markdown",
      "metadata": {
        "id": "fSxxj-z7Bi9Y"
      },
      "source": [
        "Initialise the k-fold cross validation and lists to store evaluation metrics."
      ]
    },
    {
      "cell_type": "code",
      "execution_count": 13,
      "metadata": {
        "id": "qyjlMg4EyaVf"
      },
      "outputs": [],
      "source": [
        "kf = KFold(n_splits=5, random_state=SEED, shuffle=True)\n",
        "\n",
        "#indices = np.arange(len(mris)) # Array for patient indices for retracing patients after cross-validation shuffle. \n",
        "train_dice_list = []\n",
        "val_dice_list = []\n",
        "dataframes = []"
      ]
    },
    {
      "cell_type": "code",
      "execution_count": 14,
      "metadata": {},
      "outputs": [],
      "source": [
        "def build_dfs(test_ids, dice_scores):\n",
        "    data = {\n",
        "        \"Patient Indices\": test_ids,\n",
        "        \"Dice\": dice_scores\n",
        "    }\n",
        "    # Create DataFrame\n",
        "    df = pd.DataFrame(data)\n",
        "    # Calculate the average and standard deviation of dice_scores\n",
        "    avg_dice = np.mean(dice_scores)\n",
        "    std_dice = np.std(dice_scores)\n",
        "    \n",
        "    # add a new row with average and standard deviation\n",
        "    df = pd.concat([df, pd.DataFrame({\"Patient Indices\": [\"Avg.\"], \"Dice\": [f\"{avg_dice:.2f}\"]})], ignore_index=True)\n",
        "    df = pd.concat([df, pd.DataFrame({\"Patient Indices\": [\"Std.\"], \"Dice\": [f\"{std_dice:.2f}\"]})], ignore_index=True)\n",
        "\n",
        "    \n",
        "    return df"
      ]
    },
    {
      "cell_type": "markdown",
      "metadata": {
        "id": "s7C_YfC0BsT8"
      },
      "source": [
        "Create a function to evaluate the segmentation performance."
      ]
    },
    {
      "cell_type": "code",
      "execution_count": 15,
      "metadata": {
        "id": "2dAv-Hzc13Vw"
      },
      "outputs": [],
      "source": [
        "def getScore(predictions, test_mask):\n",
        "    intersection = np.logical_and(test_mask, predictions)\n",
        "    dice_score = (np.sum(intersection) * 2) / (np.sum(predictions) + np.sum(test_mask))\n",
        "\n",
        "    return dice_score"
      ]
    },
    {
      "cell_type": "markdown",
      "metadata": {
        "id": "LZM6XKbNmJdd"
      },
      "source": [
        "Train the model inside the cross-validation loop."
      ]
    },
    {
      "cell_type": "code",
      "execution_count": 16,
      "metadata": {
        "colab": {
          "base_uri": "https://localhost:8080/"
        },
        "id": "DdgxYMnhmJdd",
        "outputId": "a56ebb05-778c-4e49-911a-1216173ebe24"
      },
      "outputs": [
        {
          "name": "stdout",
          "output_type": "stream",
          "text": [
            "Training data\n",
            "Dimensions: (154, 64, 64, 64)\n",
            "Max-value: 10.592862129211426\n",
            "Min-value: -1.4170646667480469\n",
            "Test data\n",
            "Dimensions: (39, 64, 64, 64)\n",
            "Max-value: 9.828779220581055\n",
            "Min-value: -1.2753536701202393\n",
            "Epoch 1/100\n",
            "77/77 [==============================] - 26s 213ms/step - loss: 1.0924 - f1-score: 7.9523e-04 - val_loss: 1.1100 - val_f1-score: 0.0013\n",
            "Epoch 2/100\n",
            "77/77 [==============================] - 15s 189ms/step - loss: 0.9986 - f1-score: 0.0055 - val_loss: 1.0124 - val_f1-score: 0.0024\n",
            "Epoch 3/100\n",
            "77/77 [==============================] - 15s 190ms/step - loss: 0.4830 - f1-score: 0.5184 - val_loss: 0.7010 - val_f1-score: 0.3075\n",
            "Epoch 4/100\n",
            "77/77 [==============================] - 14s 184ms/step - loss: 0.2381 - f1-score: 0.7627 - val_loss: 0.3213 - val_f1-score: 0.6822\n",
            "Epoch 5/100\n",
            "77/77 [==============================] - 15s 190ms/step - loss: 0.2105 - f1-score: 0.7902 - val_loss: 0.1874 - val_f1-score: 0.8147\n",
            "Epoch 6/100\n",
            "77/77 [==============================] - 14s 181ms/step - loss: 0.1789 - f1-score: 0.8217 - val_loss: 0.2243 - val_f1-score: 0.7782\n",
            "Epoch 7/100\n",
            "77/77 [==============================] - 15s 190ms/step - loss: 0.1699 - f1-score: 0.8307 - val_loss: 0.3456 - val_f1-score: 0.6583\n",
            "Epoch 8/100\n",
            "77/77 [==============================] - 14s 181ms/step - loss: 0.1574 - f1-score: 0.8432 - val_loss: 0.1967 - val_f1-score: 0.8058\n",
            "Epoch 9/100\n",
            "77/77 [==============================] - 14s 186ms/step - loss: 0.1397 - f1-score: 0.8608 - val_loss: 0.1502 - val_f1-score: 0.8517\n",
            "Epoch 10/100\n",
            "77/77 [==============================] - 15s 190ms/step - loss: 0.1274 - f1-score: 0.8731 - val_loss: 0.2243 - val_f1-score: 0.7793\n",
            "Epoch 11/100\n",
            "77/77 [==============================] - 15s 190ms/step - loss: 0.1260 - f1-score: 0.8745 - val_loss: 0.1423 - val_f1-score: 0.8594\n",
            "Epoch 12/100\n",
            "77/77 [==============================] - 14s 181ms/step - loss: 0.1191 - f1-score: 0.8814 - val_loss: 0.1304 - val_f1-score: 0.8712\n",
            "Epoch 13/100\n",
            "77/77 [==============================] - 14s 182ms/step - loss: 0.1199 - f1-score: 0.8806 - val_loss: 0.1384 - val_f1-score: 0.8636\n",
            "Epoch 14/100\n",
            "77/77 [==============================] - 15s 191ms/step - loss: 0.1282 - f1-score: 0.8724 - val_loss: 0.1338 - val_f1-score: 0.8680\n",
            "Epoch 15/100\n",
            "77/77 [==============================] - 15s 191ms/step - loss: 0.1309 - f1-score: 0.8696 - val_loss: 0.1866 - val_f1-score: 0.8167\n",
            "Epoch 16/100\n",
            "77/77 [==============================] - 14s 182ms/step - loss: 0.1104 - f1-score: 0.8901 - val_loss: 0.1566 - val_f1-score: 0.8459\n",
            "Epoch 17/100\n",
            "77/77 [==============================] - 15s 191ms/step - loss: 0.1036 - f1-score: 0.8969 - val_loss: 0.1412 - val_f1-score: 0.8610\n",
            "Epoch 18/100\n",
            "77/77 [==============================] - 14s 188ms/step - loss: 0.0979 - f1-score: 0.9026 - val_loss: 0.1645 - val_f1-score: 0.8382\n",
            "Epoch 19/100\n",
            "77/77 [==============================] - 15s 191ms/step - loss: 0.1026 - f1-score: 0.8979 - val_loss: 0.1548 - val_f1-score: 0.8478\n",
            "Epoch 20/100\n",
            "77/77 [==============================] - 14s 182ms/step - loss: 0.1035 - f1-score: 0.8970 - val_loss: 0.1464 - val_f1-score: 0.8558\n",
            "Epoch 21/100\n",
            "77/77 [==============================] - 14s 187ms/step - loss: 0.1028 - f1-score: 0.8977 - val_loss: 0.1284 - val_f1-score: 0.8734\n",
            "Epoch 22/100\n",
            "77/77 [==============================] - 15s 191ms/step - loss: 0.0982 - f1-score: 0.9023 - val_loss: 0.1249 - val_f1-score: 0.8768\n",
            "Epoch 23/100\n",
            "77/77 [==============================] - 15s 191ms/step - loss: 0.1001 - f1-score: 0.9004 - val_loss: 0.1250 - val_f1-score: 0.8770\n",
            "Epoch 24/100\n",
            "77/77 [==============================] - 15s 191ms/step - loss: 0.0980 - f1-score: 0.9024 - val_loss: 0.1296 - val_f1-score: 0.8722\n",
            "Epoch 25/100\n",
            "77/77 [==============================] - 15s 191ms/step - loss: 0.0944 - f1-score: 0.9061 - val_loss: 0.1461 - val_f1-score: 0.8564\n",
            "Epoch 26/100\n",
            "77/77 [==============================] - 14s 185ms/step - loss: 0.0930 - f1-score: 0.9074 - val_loss: 0.1172 - val_f1-score: 0.8844\n",
            "Epoch 27/100\n",
            "77/77 [==============================] - 15s 191ms/step - loss: 0.0882 - f1-score: 0.9122 - val_loss: 0.1809 - val_f1-score: 0.8223\n",
            "Epoch 28/100\n",
            "77/77 [==============================] - 14s 185ms/step - loss: 0.0949 - f1-score: 0.9055 - val_loss: 0.1325 - val_f1-score: 0.8695\n",
            "Epoch 29/100\n",
            "77/77 [==============================] - 15s 191ms/step - loss: 0.0905 - f1-score: 0.9099 - val_loss: 0.1250 - val_f1-score: 0.8766\n",
            "Epoch 30/100\n",
            "77/77 [==============================] - 14s 185ms/step - loss: 0.0823 - f1-score: 0.9182 - val_loss: 0.1377 - val_f1-score: 0.8645\n",
            "Epoch 31/100\n",
            "77/77 [==============================] - 15s 191ms/step - loss: 0.0806 - f1-score: 0.9198 - val_loss: 0.1510 - val_f1-score: 0.8515\n",
            "Epoch 32/100\n",
            "77/77 [==============================] - 14s 186ms/step - loss: 0.0782 - f1-score: 0.9222 - val_loss: 0.1254 - val_f1-score: 0.8764\n",
            "Epoch 33/100\n",
            "77/77 [==============================] - 15s 191ms/step - loss: 0.0940 - f1-score: 0.9065 - val_loss: 0.1390 - val_f1-score: 0.8630\n",
            "Epoch 34/100\n",
            "77/77 [==============================] - 15s 192ms/step - loss: 0.0809 - f1-score: 0.9195 - val_loss: 0.1123 - val_f1-score: 0.8893\n",
            "Epoch 35/100\n",
            "77/77 [==============================] - 14s 183ms/step - loss: 0.0786 - f1-score: 0.9219 - val_loss: 0.1292 - val_f1-score: 0.8730\n",
            "Epoch 36/100\n",
            "77/77 [==============================] - 15s 191ms/step - loss: 0.0994 - f1-score: 0.9012 - val_loss: 0.1692 - val_f1-score: 0.8340\n",
            "Epoch 37/100\n",
            "77/77 [==============================] - 14s 186ms/step - loss: 0.0913 - f1-score: 0.9092 - val_loss: 0.1120 - val_f1-score: 0.8894\n",
            "Epoch 38/100\n",
            "77/77 [==============================] - 15s 191ms/step - loss: 0.0778 - f1-score: 0.9226 - val_loss: 0.1058 - val_f1-score: 0.8956\n",
            "Epoch 39/100\n",
            "77/77 [==============================] - 15s 191ms/step - loss: 0.0745 - f1-score: 0.9259 - val_loss: 0.1442 - val_f1-score: 0.8582\n",
            "Epoch 40/100\n",
            "77/77 [==============================] - 15s 191ms/step - loss: 0.0812 - f1-score: 0.9192 - val_loss: 0.1245 - val_f1-score: 0.8775\n",
            "Epoch 41/100\n",
            "77/77 [==============================] - 14s 182ms/step - loss: 0.0805 - f1-score: 0.9199 - val_loss: 0.1412 - val_f1-score: 0.8611\n",
            "Epoch 42/100\n",
            "77/77 [==============================] - 15s 191ms/step - loss: 0.0799 - f1-score: 0.9205 - val_loss: 0.1355 - val_f1-score: 0.8666\n",
            "Epoch 43/100\n",
            "77/77 [==============================] - 15s 191ms/step - loss: 0.0703 - f1-score: 0.9301 - val_loss: 0.1360 - val_f1-score: 0.8663\n",
            "Epoch 44/100\n",
            "77/77 [==============================] - 14s 183ms/step - loss: 0.0685 - f1-score: 0.9320 - val_loss: 0.1100 - val_f1-score: 0.8915\n",
            "Epoch 45/100\n",
            "77/77 [==============================] - 15s 191ms/step - loss: 0.0702 - f1-score: 0.9302 - val_loss: 0.1277 - val_f1-score: 0.8743\n",
            "Epoch 46/100\n",
            "77/77 [==============================] - 15s 191ms/step - loss: 0.0723 - f1-score: 0.9281 - val_loss: 0.1146 - val_f1-score: 0.8870\n",
            "Epoch 47/100\n",
            "77/77 [==============================] - 14s 187ms/step - loss: 0.0718 - f1-score: 0.9286 - val_loss: 0.1089 - val_f1-score: 0.8926\n",
            "Epoch 48/100\n",
            "77/77 [==============================] - 15s 191ms/step - loss: 0.0733 - f1-score: 0.9271 - val_loss: 0.2592 - val_f1-score: 0.7466\n",
            "Epoch 49/100\n",
            "77/77 [==============================] - 14s 182ms/step - loss: 0.0837 - f1-score: 0.9168 - val_loss: 0.1495 - val_f1-score: 0.8532\n",
            "Epoch 50/100\n",
            "77/77 [==============================] - 14s 182ms/step - loss: 0.0690 - f1-score: 0.9315 - val_loss: 0.1174 - val_f1-score: 0.8843\n",
            "Epoch 51/100\n",
            "77/77 [==============================] - 14s 187ms/step - loss: 0.0647 - f1-score: 0.9358 - val_loss: 0.1150 - val_f1-score: 0.8867\n",
            "Epoch 52/100\n",
            "77/77 [==============================] - 14s 182ms/step - loss: 0.0633 - f1-score: 0.9371 - val_loss: 0.1153 - val_f1-score: 0.8864\n",
            "Epoch 53/100\n",
            "77/77 [==============================] - 15s 192ms/step - loss: 0.0615 - f1-score: 0.9389 - val_loss: 0.1257 - val_f1-score: 0.8763\n",
            "1/1 [==============================] - 0s 353ms/step\n",
            "1/1 [==============================] - 0s 18ms/step\n",
            "1/1 [==============================] - 0s 19ms/step\n",
            "1/1 [==============================] - 0s 18ms/step\n",
            "1/1 [==============================] - 0s 18ms/step\n",
            "1/1 [==============================] - 0s 18ms/step\n",
            "1/1 [==============================] - 0s 18ms/step\n",
            "1/1 [==============================] - 0s 18ms/step\n",
            "1/1 [==============================] - 0s 19ms/step\n",
            "1/1 [==============================] - 0s 19ms/step\n",
            "1/1 [==============================] - 0s 18ms/step\n",
            "1/1 [==============================] - 0s 18ms/step\n",
            "1/1 [==============================] - 0s 19ms/step\n",
            "1/1 [==============================] - 0s 19ms/step\n",
            "1/1 [==============================] - 0s 19ms/step\n",
            "1/1 [==============================] - 0s 19ms/step\n",
            "1/1 [==============================] - 0s 19ms/step\n",
            "1/1 [==============================] - 0s 18ms/step\n",
            "1/1 [==============================] - 0s 18ms/step\n",
            "1/1 [==============================] - 0s 19ms/step\n",
            "1/1 [==============================] - 0s 18ms/step\n",
            "1/1 [==============================] - 0s 19ms/step\n",
            "1/1 [==============================] - 0s 19ms/step\n",
            "1/1 [==============================] - 0s 19ms/step\n",
            "1/1 [==============================] - 0s 18ms/step\n",
            "1/1 [==============================] - 0s 19ms/step\n",
            "1/1 [==============================] - 0s 19ms/step\n",
            "1/1 [==============================] - 0s 19ms/step\n",
            "1/1 [==============================] - 0s 18ms/step\n",
            "1/1 [==============================] - 0s 18ms/step\n",
            "1/1 [==============================] - 0s 18ms/step\n",
            "1/1 [==============================] - 0s 18ms/step\n",
            "1/1 [==============================] - 0s 18ms/step\n",
            "1/1 [==============================] - 0s 19ms/step\n",
            "1/1 [==============================] - 0s 19ms/step\n",
            "1/1 [==============================] - 0s 18ms/step\n",
            "1/1 [==============================] - 0s 19ms/step\n",
            "1/1 [==============================] - 0s 19ms/step\n",
            "1/1 [==============================] - 0s 18ms/step\n",
            "Average of validation folds Dice Scores: 0.8860705129158322\n"
          ]
        },
        {
          "name": "stderr",
          "output_type": "stream",
          "text": [
            "WARNING:absl:Found untraced functions such as _jit_compiled_convolution_op, _jit_compiled_convolution_op, _jit_compiled_convolution_op, _jit_compiled_convolution_op, _jit_compiled_convolution_op while saving (showing 5 of 40). These functions will not be directly callable after loading.\n"
          ]
        },
        {
          "name": "stdout",
          "output_type": "stream",
          "text": [
            "INFO:tensorflow:Assets written to: C:\\Users\\joona\\Documents\\LUT\\bsc_thesis\\kfold_cv_models\\fold_1\\assets\n"
          ]
        },
        {
          "name": "stderr",
          "output_type": "stream",
          "text": [
            "INFO:tensorflow:Assets written to: C:\\Users\\joona\\Documents\\LUT\\bsc_thesis\\kfold_cv_models\\fold_1\\assets\n"
          ]
        },
        {
          "name": "stdout",
          "output_type": "stream",
          "text": [
            "Training data\n",
            "Dimensions: (154, 64, 64, 64)\n",
            "Max-value: 10.592862129211426\n",
            "Min-value: -1.4170646667480469\n",
            "Test data\n",
            "Dimensions: (39, 64, 64, 64)\n",
            "Max-value: 10.325362205505371\n",
            "Min-value: -1.30536687374115\n",
            "Epoch 1/100\n",
            "77/77 [==============================] - 17s 195ms/step - loss: 1.1185 - f1-score: 0.0013 - val_loss: 1.2288 - val_f1-score: 9.5327e-04\n",
            "Epoch 2/100\n",
            "77/77 [==============================] - 14s 180ms/step - loss: 1.0047 - f1-score: 0.0018 - val_loss: 1.0375 - val_f1-score: 9.5167e-04\n",
            "Epoch 3/100\n",
            "77/77 [==============================] - 14s 182ms/step - loss: 1.0018 - f1-score: 0.0030 - val_loss: 1.0069 - val_f1-score: 0.0014\n",
            "Epoch 4/100\n",
            "77/77 [==============================] - 14s 181ms/step - loss: 0.9482 - f1-score: 0.0554 - val_loss: 1.0029 - val_f1-score: 0.0012\n",
            "Epoch 5/100\n",
            "77/77 [==============================] - 14s 184ms/step - loss: 0.3276 - f1-score: 0.6733 - val_loss: 0.9150 - val_f1-score: 0.0872\n",
            "Epoch 6/100\n",
            "77/77 [==============================] - 14s 182ms/step - loss: 0.2581 - f1-score: 0.7428 - val_loss: 0.3687 - val_f1-score: 0.6357\n",
            "Epoch 7/100\n",
            "77/77 [==============================] - 14s 182ms/step - loss: 0.2213 - f1-score: 0.7795 - val_loss: 0.2979 - val_f1-score: 0.7073\n",
            "Epoch 8/100\n",
            "77/77 [==============================] - 14s 186ms/step - loss: 0.1841 - f1-score: 0.8165 - val_loss: 0.3092 - val_f1-score: 0.6962\n",
            "Epoch 9/100\n",
            "77/77 [==============================] - 14s 181ms/step - loss: 0.1677 - f1-score: 0.8329 - val_loss: 0.2142 - val_f1-score: 0.7899\n",
            "Epoch 10/100\n",
            "77/77 [==============================] - 14s 182ms/step - loss: 0.1612 - f1-score: 0.8394 - val_loss: 0.2116 - val_f1-score: 0.7924\n",
            "Epoch 11/100\n",
            "77/77 [==============================] - 14s 182ms/step - loss: 0.1552 - f1-score: 0.8454 - val_loss: 0.2347 - val_f1-score: 0.7702\n",
            "Epoch 12/100\n",
            "77/77 [==============================] - 14s 182ms/step - loss: 0.1359 - f1-score: 0.8646 - val_loss: 0.2058 - val_f1-score: 0.7984\n",
            "Epoch 13/100\n",
            "77/77 [==============================] - 14s 182ms/step - loss: 0.1495 - f1-score: 0.8511 - val_loss: 0.3112 - val_f1-score: 0.6914\n",
            "Epoch 14/100\n",
            "77/77 [==============================] - 14s 181ms/step - loss: 0.1410 - f1-score: 0.8595 - val_loss: 0.2904 - val_f1-score: 0.7149\n",
            "Epoch 15/100\n",
            "77/77 [==============================] - 14s 182ms/step - loss: 0.1351 - f1-score: 0.8654 - val_loss: 0.2176 - val_f1-score: 0.7869\n",
            "Epoch 16/100\n",
            "77/77 [==============================] - 14s 183ms/step - loss: 0.1231 - f1-score: 0.8774 - val_loss: 0.1814 - val_f1-score: 0.8222\n",
            "Epoch 17/100\n",
            "77/77 [==============================] - 14s 181ms/step - loss: 0.1186 - f1-score: 0.8819 - val_loss: 0.2068 - val_f1-score: 0.7976\n",
            "Epoch 18/100\n",
            "77/77 [==============================] - 14s 181ms/step - loss: 0.1065 - f1-score: 0.8940 - val_loss: 0.1977 - val_f1-score: 0.8064\n",
            "Epoch 19/100\n",
            "77/77 [==============================] - 14s 184ms/step - loss: 0.1066 - f1-score: 0.8938 - val_loss: 0.1687 - val_f1-score: 0.8344\n",
            "Epoch 20/100\n",
            "77/77 [==============================] - 14s 182ms/step - loss: 0.1204 - f1-score: 0.8802 - val_loss: 0.2057 - val_f1-score: 0.7985\n",
            "Epoch 21/100\n",
            "77/77 [==============================] - 14s 183ms/step - loss: 0.1212 - f1-score: 0.8793 - val_loss: 0.1724 - val_f1-score: 0.8309\n",
            "Epoch 22/100\n",
            "77/77 [==============================] - 14s 182ms/step - loss: 0.1017 - f1-score: 0.8988 - val_loss: 0.1854 - val_f1-score: 0.8181\n",
            "Epoch 23/100\n",
            "77/77 [==============================] - 15s 189ms/step - loss: 0.1013 - f1-score: 0.8991 - val_loss: 0.1718 - val_f1-score: 0.8317\n",
            "Epoch 24/100\n",
            "77/77 [==============================] - 15s 189ms/step - loss: 0.0937 - f1-score: 0.9067 - val_loss: 0.1854 - val_f1-score: 0.8183\n",
            "Epoch 25/100\n",
            "77/77 [==============================] - 14s 184ms/step - loss: 0.0938 - f1-score: 0.9066 - val_loss: 0.1723 - val_f1-score: 0.8309\n",
            "Epoch 26/100\n",
            "77/77 [==============================] - 15s 190ms/step - loss: 0.0967 - f1-score: 0.9038 - val_loss: 0.1653 - val_f1-score: 0.8380\n",
            "Epoch 27/100\n",
            "77/77 [==============================] - 15s 189ms/step - loss: 0.0862 - f1-score: 0.9142 - val_loss: 0.1794 - val_f1-score: 0.8244\n",
            "Epoch 28/100\n",
            "77/77 [==============================] - 15s 189ms/step - loss: 0.0909 - f1-score: 0.9095 - val_loss: 0.1657 - val_f1-score: 0.8376\n",
            "Epoch 29/100\n",
            "77/77 [==============================] - 15s 189ms/step - loss: 0.0911 - f1-score: 0.9093 - val_loss: 0.1978 - val_f1-score: 0.8065\n",
            "Epoch 30/100\n",
            "77/77 [==============================] - 15s 189ms/step - loss: 0.0910 - f1-score: 0.9094 - val_loss: 0.2376 - val_f1-score: 0.7677\n",
            "Epoch 31/100\n",
            "77/77 [==============================] - 14s 181ms/step - loss: 0.0935 - f1-score: 0.9070 - val_loss: 0.1561 - val_f1-score: 0.8471\n",
            "Epoch 32/100\n",
            "77/77 [==============================] - 15s 190ms/step - loss: 0.0864 - f1-score: 0.9140 - val_loss: 0.1510 - val_f1-score: 0.8520\n",
            "Epoch 33/100\n",
            "77/77 [==============================] - 15s 189ms/step - loss: 0.0820 - f1-score: 0.9184 - val_loss: 0.2000 - val_f1-score: 0.8043\n",
            "Epoch 34/100\n",
            "77/77 [==============================] - 14s 181ms/step - loss: 0.0789 - f1-score: 0.9215 - val_loss: 0.1620 - val_f1-score: 0.8414\n",
            "Epoch 35/100\n",
            "77/77 [==============================] - 14s 180ms/step - loss: 0.0784 - f1-score: 0.9220 - val_loss: 0.1645 - val_f1-score: 0.8387\n",
            "Epoch 36/100\n",
            "77/77 [==============================] - 15s 190ms/step - loss: 0.0792 - f1-score: 0.9212 - val_loss: 0.1840 - val_f1-score: 0.8200\n",
            "Epoch 37/100\n",
            "77/77 [==============================] - 14s 180ms/step - loss: 0.0752 - f1-score: 0.9252 - val_loss: 0.1733 - val_f1-score: 0.8303\n",
            "Epoch 38/100\n",
            "77/77 [==============================] - 15s 190ms/step - loss: 0.0758 - f1-score: 0.9246 - val_loss: 0.1712 - val_f1-score: 0.8324\n",
            "Epoch 39/100\n",
            "77/77 [==============================] - 14s 181ms/step - loss: 0.0781 - f1-score: 0.9223 - val_loss: 0.1655 - val_f1-score: 0.8379\n",
            "Epoch 40/100\n",
            "77/77 [==============================] - 15s 189ms/step - loss: 0.1038 - f1-score: 0.8968 - val_loss: 0.1554 - val_f1-score: 0.8477\n",
            "Epoch 41/100\n",
            "77/77 [==============================] - 15s 190ms/step - loss: 0.0800 - f1-score: 0.9204 - val_loss: 0.1813 - val_f1-score: 0.8220\n",
            "Epoch 42/100\n",
            "77/77 [==============================] - 15s 190ms/step - loss: 0.0728 - f1-score: 0.9276 - val_loss: 0.1725 - val_f1-score: 0.8311\n",
            "Epoch 43/100\n",
            "77/77 [==============================] - 15s 190ms/step - loss: 0.0712 - f1-score: 0.9291 - val_loss: 0.1711 - val_f1-score: 0.8326\n",
            "Epoch 44/100\n",
            "77/77 [==============================] - 15s 190ms/step - loss: 0.0691 - f1-score: 0.9313 - val_loss: 0.1504 - val_f1-score: 0.8526\n",
            "Epoch 45/100\n",
            "77/77 [==============================] - 15s 190ms/step - loss: 0.0863 - f1-score: 0.9143 - val_loss: 0.2320 - val_f1-score: 0.7736\n",
            "Epoch 46/100\n",
            "77/77 [==============================] - 14s 181ms/step - loss: 0.0749 - f1-score: 0.9255 - val_loss: 0.1645 - val_f1-score: 0.8389\n",
            "Epoch 47/100\n",
            "77/77 [==============================] - 15s 189ms/step - loss: 0.0689 - f1-score: 0.9315 - val_loss: 0.1600 - val_f1-score: 0.8433\n",
            "Epoch 48/100\n",
            "77/77 [==============================] - 15s 189ms/step - loss: 0.0659 - f1-score: 0.9344 - val_loss: 0.1630 - val_f1-score: 0.8405\n",
            "Epoch 49/100\n",
            "77/77 [==============================] - 15s 190ms/step - loss: 0.0648 - f1-score: 0.9356 - val_loss: 0.1672 - val_f1-score: 0.8364\n",
            "Epoch 50/100\n",
            "77/77 [==============================] - 14s 181ms/step - loss: 0.0648 - f1-score: 0.9355 - val_loss: 0.1767 - val_f1-score: 0.8272\n",
            "Epoch 51/100\n",
            "77/77 [==============================] - 14s 182ms/step - loss: 0.0643 - f1-score: 0.9360 - val_loss: 0.1661 - val_f1-score: 0.8375\n",
            "Epoch 52/100\n",
            "77/77 [==============================] - 14s 181ms/step - loss: 0.0645 - f1-score: 0.9359 - val_loss: 0.1595 - val_f1-score: 0.8440\n",
            "Epoch 53/100\n",
            "77/77 [==============================] - 15s 190ms/step - loss: 0.0640 - f1-score: 0.9364 - val_loss: 0.1518 - val_f1-score: 0.8512\n",
            "Epoch 54/100\n",
            "77/77 [==============================] - 14s 181ms/step - loss: 0.0661 - f1-score: 0.9342 - val_loss: 0.1553 - val_f1-score: 0.8480\n",
            "Epoch 55/100\n",
            "77/77 [==============================] - 15s 190ms/step - loss: 0.0618 - f1-score: 0.9386 - val_loss: 0.1747 - val_f1-score: 0.8292\n",
            "Epoch 56/100\n",
            "77/77 [==============================] - 15s 189ms/step - loss: 0.0597 - f1-score: 0.9406 - val_loss: 0.1516 - val_f1-score: 0.8517\n",
            "Epoch 57/100\n",
            "77/77 [==============================] - 15s 189ms/step - loss: 0.0586 - f1-score: 0.9418 - val_loss: 0.1630 - val_f1-score: 0.8406\n",
            "Epoch 58/100\n",
            "77/77 [==============================] - 15s 190ms/step - loss: 0.0560 - f1-score: 0.9443 - val_loss: 0.1646 - val_f1-score: 0.8391\n",
            "Epoch 59/100\n",
            "77/77 [==============================] - 15s 190ms/step - loss: 0.0570 - f1-score: 0.9434 - val_loss: 0.1416 - val_f1-score: 0.8615\n",
            "Epoch 60/100\n",
            "77/77 [==============================] - 15s 189ms/step - loss: 0.0614 - f1-score: 0.9390 - val_loss: 0.1630 - val_f1-score: 0.8406\n",
            "Epoch 61/100\n",
            "77/77 [==============================] - 15s 190ms/step - loss: 0.0578 - f1-score: 0.9426 - val_loss: 0.2950 - val_f1-score: 0.7119\n",
            "Epoch 62/100\n",
            "77/77 [==============================] - 14s 181ms/step - loss: 0.0548 - f1-score: 0.9456 - val_loss: 0.1776 - val_f1-score: 0.8265\n",
            "Epoch 63/100\n",
            "77/77 [==============================] - 14s 180ms/step - loss: 0.0537 - f1-score: 0.9466 - val_loss: 0.1516 - val_f1-score: 0.8517\n",
            "Epoch 64/100\n",
            "77/77 [==============================] - 14s 181ms/step - loss: 0.0536 - f1-score: 0.9467 - val_loss: 0.1533 - val_f1-score: 0.8501\n",
            "Epoch 65/100\n",
            "77/77 [==============================] - 15s 189ms/step - loss: 0.0528 - f1-score: 0.9476 - val_loss: 0.1561 - val_f1-score: 0.8474\n",
            "Epoch 66/100\n",
            "77/77 [==============================] - 15s 190ms/step - loss: 0.0533 - f1-score: 0.9470 - val_loss: 0.1471 - val_f1-score: 0.8560\n",
            "Epoch 67/100\n",
            "77/77 [==============================] - 14s 181ms/step - loss: 0.0543 - f1-score: 0.9461 - val_loss: 0.1672 - val_f1-score: 0.8366\n",
            "Epoch 68/100\n",
            "77/77 [==============================] - 15s 190ms/step - loss: 0.1060 - f1-score: 0.8948 - val_loss: 0.2301 - val_f1-score: 0.7752\n",
            "Epoch 69/100\n",
            "77/77 [==============================] - 15s 190ms/step - loss: 0.0616 - f1-score: 0.9388 - val_loss: 0.2474 - val_f1-score: 0.7582\n",
            "Epoch 70/100\n",
            "77/77 [==============================] - 14s 180ms/step - loss: 0.0559 - f1-score: 0.9445 - val_loss: 0.2063 - val_f1-score: 0.7986\n",
            "Epoch 71/100\n",
            "77/77 [==============================] - 14s 181ms/step - loss: 0.0514 - f1-score: 0.9490 - val_loss: 0.1673 - val_f1-score: 0.8365\n",
            "Epoch 72/100\n",
            "77/77 [==============================] - 14s 181ms/step - loss: 0.0515 - f1-score: 0.9489 - val_loss: 0.1819 - val_f1-score: 0.8223\n",
            "Epoch 73/100\n",
            "77/77 [==============================] - 15s 189ms/step - loss: 0.0534 - f1-score: 0.9470 - val_loss: 0.1523 - val_f1-score: 0.8511\n",
            "Epoch 74/100\n",
            "77/77 [==============================] - 15s 190ms/step - loss: 0.0470 - f1-score: 0.9534 - val_loss: 0.1688 - val_f1-score: 0.8352\n",
            "1/1 [==============================] - 0s 331ms/step\n",
            "1/1 [==============================] - 0s 18ms/step\n",
            "1/1 [==============================] - 0s 18ms/step\n",
            "1/1 [==============================] - 0s 18ms/step\n",
            "1/1 [==============================] - 0s 18ms/step\n",
            "1/1 [==============================] - 0s 18ms/step\n",
            "1/1 [==============================] - 0s 18ms/step\n",
            "1/1 [==============================] - 0s 18ms/step\n",
            "1/1 [==============================] - 0s 18ms/step\n",
            "1/1 [==============================] - 0s 18ms/step\n",
            "1/1 [==============================] - 0s 19ms/step\n",
            "1/1 [==============================] - 0s 18ms/step\n",
            "1/1 [==============================] - 0s 19ms/step\n",
            "1/1 [==============================] - 0s 20ms/step\n",
            "1/1 [==============================] - 0s 19ms/step\n",
            "1/1 [==============================] - 0s 18ms/step\n",
            "1/1 [==============================] - 0s 19ms/step\n",
            "1/1 [==============================] - 0s 18ms/step\n",
            "1/1 [==============================] - 0s 18ms/step\n",
            "1/1 [==============================] - 0s 19ms/step\n",
            "1/1 [==============================] - 0s 18ms/step\n",
            "1/1 [==============================] - 0s 19ms/step\n",
            "1/1 [==============================] - 0s 19ms/step\n",
            "1/1 [==============================] - 0s 18ms/step\n",
            "1/1 [==============================] - 0s 18ms/step\n",
            "1/1 [==============================] - 0s 18ms/step\n",
            "1/1 [==============================] - 0s 18ms/step\n",
            "1/1 [==============================] - 0s 19ms/step\n",
            "1/1 [==============================] - 0s 18ms/step\n",
            "1/1 [==============================] - 0s 18ms/step\n",
            "1/1 [==============================] - 0s 18ms/step\n",
            "1/1 [==============================] - 0s 18ms/step\n",
            "1/1 [==============================] - 0s 19ms/step\n",
            "1/1 [==============================] - 0s 19ms/step\n",
            "1/1 [==============================] - 0s 19ms/step\n",
            "1/1 [==============================] - 0s 18ms/step\n",
            "1/1 [==============================] - 0s 18ms/step\n",
            "1/1 [==============================] - 0s 18ms/step\n",
            "1/1 [==============================] - 0s 18ms/step\n",
            "Average of validation folds Dice Scores: 0.8397618969374259\n"
          ]
        },
        {
          "name": "stderr",
          "output_type": "stream",
          "text": [
            "WARNING:absl:Found untraced functions such as _jit_compiled_convolution_op, _jit_compiled_convolution_op, _jit_compiled_convolution_op, _jit_compiled_convolution_op, _jit_compiled_convolution_op while saving (showing 5 of 40). These functions will not be directly callable after loading.\n"
          ]
        },
        {
          "name": "stdout",
          "output_type": "stream",
          "text": [
            "INFO:tensorflow:Assets written to: C:\\Users\\joona\\Documents\\LUT\\bsc_thesis\\kfold_cv_models\\fold_2\\assets\n"
          ]
        },
        {
          "name": "stderr",
          "output_type": "stream",
          "text": [
            "INFO:tensorflow:Assets written to: C:\\Users\\joona\\Documents\\LUT\\bsc_thesis\\kfold_cv_models\\fold_2\\assets\n"
          ]
        },
        {
          "name": "stdout",
          "output_type": "stream",
          "text": [
            "Training data\n",
            "Dimensions: (154, 64, 64, 64)\n",
            "Max-value: 10.592862129211426\n",
            "Min-value: -1.3901468515396118\n",
            "Test data\n",
            "Dimensions: (39, 64, 64, 64)\n",
            "Max-value: 9.202779769897461\n",
            "Min-value: -1.4170646667480469\n",
            "Epoch 1/100\n",
            "77/77 [==============================] - 17s 195ms/step - loss: 1.0402 - f1-score: 7.3687e-04 - val_loss: 1.0482 - val_f1-score: 0.0014\n",
            "Epoch 2/100\n",
            "77/77 [==============================] - 15s 189ms/step - loss: 0.9419 - f1-score: 0.0623 - val_loss: 1.0025 - val_f1-score: 0.0029\n",
            "Epoch 3/100\n",
            "77/77 [==============================] - 14s 185ms/step - loss: 0.3662 - f1-score: 0.6349 - val_loss: 0.8480 - val_f1-score: 0.1519\n",
            "Epoch 4/100\n",
            "77/77 [==============================] - 15s 189ms/step - loss: 0.2318 - f1-score: 0.7690 - val_loss: 0.3871 - val_f1-score: 0.6174\n",
            "Epoch 5/100\n",
            "77/77 [==============================] - 15s 189ms/step - loss: 0.2075 - f1-score: 0.7932 - val_loss: 0.3765 - val_f1-score: 0.6281\n",
            "Epoch 6/100\n",
            "77/77 [==============================] - 15s 190ms/step - loss: 0.1759 - f1-score: 0.8248 - val_loss: 0.4928 - val_f1-score: 0.5119\n",
            "Epoch 7/100\n",
            "77/77 [==============================] - 15s 190ms/step - loss: 0.1884 - f1-score: 0.8123 - val_loss: 0.3158 - val_f1-score: 0.6892\n",
            "Epoch 8/100\n",
            "77/77 [==============================] - 15s 190ms/step - loss: 0.1672 - f1-score: 0.8334 - val_loss: 0.2134 - val_f1-score: 0.7900\n",
            "Epoch 9/100\n",
            "77/77 [==============================] - 15s 190ms/step - loss: 0.1772 - f1-score: 0.8235 - val_loss: 0.2211 - val_f1-score: 0.7840\n",
            "Epoch 10/100\n",
            "77/77 [==============================] - 14s 187ms/step - loss: 0.1529 - f1-score: 0.8478 - val_loss: 0.2717 - val_f1-score: 0.7325\n",
            "Epoch 11/100\n",
            "77/77 [==============================] - 15s 190ms/step - loss: 0.1346 - f1-score: 0.8660 - val_loss: 0.2170 - val_f1-score: 0.7866\n",
            "Epoch 12/100\n",
            "77/77 [==============================] - 15s 190ms/step - loss: 0.1413 - f1-score: 0.8594 - val_loss: 0.2177 - val_f1-score: 0.7859\n",
            "Epoch 13/100\n",
            "77/77 [==============================] - 15s 190ms/step - loss: 0.1254 - f1-score: 0.8751 - val_loss: 0.1637 - val_f1-score: 0.8395\n",
            "Epoch 14/100\n",
            "77/77 [==============================] - 15s 190ms/step - loss: 0.1413 - f1-score: 0.8593 - val_loss: 0.2039 - val_f1-score: 0.7993\n",
            "Epoch 15/100\n",
            "77/77 [==============================] - 15s 189ms/step - loss: 0.1300 - f1-score: 0.8706 - val_loss: 0.1693 - val_f1-score: 0.8343\n",
            "Epoch 16/100\n",
            "77/77 [==============================] - 15s 190ms/step - loss: 0.1307 - f1-score: 0.8700 - val_loss: 0.2141 - val_f1-score: 0.7895\n",
            "Epoch 17/100\n",
            "77/77 [==============================] - 14s 181ms/step - loss: 0.1252 - f1-score: 0.8753 - val_loss: 0.1980 - val_f1-score: 0.8059\n",
            "Epoch 18/100\n",
            "77/77 [==============================] - 15s 190ms/step - loss: 0.1251 - f1-score: 0.8756 - val_loss: 0.1938 - val_f1-score: 0.8105\n",
            "Epoch 19/100\n",
            "77/77 [==============================] - 15s 190ms/step - loss: 0.1322 - f1-score: 0.8684 - val_loss: 0.1613 - val_f1-score: 0.8420\n",
            "Epoch 20/100\n",
            "77/77 [==============================] - 15s 190ms/step - loss: 0.1301 - f1-score: 0.8705 - val_loss: 0.1628 - val_f1-score: 0.8402\n",
            "Epoch 21/100\n",
            "77/77 [==============================] - 14s 181ms/step - loss: 0.1217 - f1-score: 0.8789 - val_loss: 0.1444 - val_f1-score: 0.8587\n",
            "Epoch 22/100\n",
            "77/77 [==============================] - 15s 190ms/step - loss: 0.1070 - f1-score: 0.8936 - val_loss: 0.1409 - val_f1-score: 0.8619\n",
            "Epoch 23/100\n",
            "77/77 [==============================] - 14s 181ms/step - loss: 0.1065 - f1-score: 0.8941 - val_loss: 0.1366 - val_f1-score: 0.8662\n",
            "Epoch 24/100\n",
            "77/77 [==============================] - 15s 190ms/step - loss: 0.1029 - f1-score: 0.8976 - val_loss: 0.1307 - val_f1-score: 0.8719\n",
            "Epoch 25/100\n",
            "77/77 [==============================] - 15s 190ms/step - loss: 0.1100 - f1-score: 0.8906 - val_loss: 0.1665 - val_f1-score: 0.8373\n",
            "Epoch 26/100\n",
            "77/77 [==============================] - 14s 186ms/step - loss: 0.1028 - f1-score: 0.8977 - val_loss: 0.1322 - val_f1-score: 0.8705\n",
            "Epoch 27/100\n",
            "77/77 [==============================] - 15s 190ms/step - loss: 0.1123 - f1-score: 0.8883 - val_loss: 0.1734 - val_f1-score: 0.8303\n",
            "Epoch 28/100\n",
            "77/77 [==============================] - 14s 185ms/step - loss: 0.1102 - f1-score: 0.8904 - val_loss: 0.7954 - val_f1-score: 0.2324\n",
            "Epoch 29/100\n",
            "77/77 [==============================] - 15s 190ms/step - loss: 0.1048 - f1-score: 0.8958 - val_loss: 0.1325 - val_f1-score: 0.8701\n",
            "Epoch 30/100\n",
            "77/77 [==============================] - 15s 190ms/step - loss: 0.0933 - f1-score: 0.9072 - val_loss: 0.1723 - val_f1-score: 0.8307\n",
            "Epoch 31/100\n",
            "77/77 [==============================] - 14s 181ms/step - loss: 0.0975 - f1-score: 0.9030 - val_loss: 0.1620 - val_f1-score: 0.8413\n",
            "Epoch 32/100\n",
            "77/77 [==============================] - 14s 181ms/step - loss: 0.1008 - f1-score: 0.8997 - val_loss: 0.1383 - val_f1-score: 0.8645\n",
            "Epoch 33/100\n",
            "77/77 [==============================] - 15s 190ms/step - loss: 0.0969 - f1-score: 0.9036 - val_loss: 0.1390 - val_f1-score: 0.8639\n",
            "Epoch 34/100\n",
            "77/77 [==============================] - 15s 190ms/step - loss: 0.0869 - f1-score: 0.9136 - val_loss: 0.1400 - val_f1-score: 0.8630\n",
            "Epoch 35/100\n",
            "77/77 [==============================] - 15s 189ms/step - loss: 0.0841 - f1-score: 0.9163 - val_loss: 0.1450 - val_f1-score: 0.8582\n",
            "Epoch 36/100\n",
            "77/77 [==============================] - 15s 190ms/step - loss: 0.0877 - f1-score: 0.9127 - val_loss: 0.1291 - val_f1-score: 0.8737\n",
            "Epoch 37/100\n",
            "77/77 [==============================] - 15s 189ms/step - loss: 0.0980 - f1-score: 0.9025 - val_loss: 0.1539 - val_f1-score: 0.8499\n",
            "Epoch 38/100\n",
            "77/77 [==============================] - 14s 187ms/step - loss: 0.0877 - f1-score: 0.9128 - val_loss: 0.1393 - val_f1-score: 0.8639\n",
            "Epoch 39/100\n",
            "77/77 [==============================] - 15s 190ms/step - loss: 0.0903 - f1-score: 0.9102 - val_loss: 0.1396 - val_f1-score: 0.8635\n",
            "Epoch 40/100\n",
            "77/77 [==============================] - 15s 190ms/step - loss: 0.0974 - f1-score: 0.9031 - val_loss: 0.1261 - val_f1-score: 0.8766\n",
            "Epoch 41/100\n",
            "77/77 [==============================] - 15s 190ms/step - loss: 0.0888 - f1-score: 0.9116 - val_loss: 0.1255 - val_f1-score: 0.8771\n",
            "Epoch 42/100\n",
            "77/77 [==============================] - 15s 190ms/step - loss: 0.0828 - f1-score: 0.9177 - val_loss: 0.1305 - val_f1-score: 0.8723\n",
            "Epoch 43/100\n",
            "77/77 [==============================] - 15s 189ms/step - loss: 0.0803 - f1-score: 0.9202 - val_loss: 0.1582 - val_f1-score: 0.8450\n",
            "Epoch 44/100\n",
            "77/77 [==============================] - 15s 190ms/step - loss: 0.0865 - f1-score: 0.9140 - val_loss: 0.1684 - val_f1-score: 0.8356\n",
            "Epoch 45/100\n",
            "77/77 [==============================] - 15s 189ms/step - loss: 0.0868 - f1-score: 0.9137 - val_loss: 0.1507 - val_f1-score: 0.8520\n",
            "Epoch 46/100\n",
            "77/77 [==============================] - 15s 189ms/step - loss: 0.0924 - f1-score: 0.9081 - val_loss: 0.7706 - val_f1-score: 0.2617\n",
            "Epoch 47/100\n",
            "77/77 [==============================] - 14s 185ms/step - loss: 0.1179 - f1-score: 0.8828 - val_loss: 0.1619 - val_f1-score: 0.8418\n",
            "Epoch 48/100\n",
            "77/77 [==============================] - 15s 190ms/step - loss: 0.0888 - f1-score: 0.9117 - val_loss: 0.1305 - val_f1-score: 0.8722\n",
            "Epoch 49/100\n",
            "77/77 [==============================] - 15s 190ms/step - loss: 0.0771 - f1-score: 0.9234 - val_loss: 0.1279 - val_f1-score: 0.8749\n",
            "Epoch 50/100\n",
            "77/77 [==============================] - 15s 190ms/step - loss: 0.0770 - f1-score: 0.9235 - val_loss: 0.1202 - val_f1-score: 0.8822\n",
            "Epoch 51/100\n",
            "77/77 [==============================] - 15s 190ms/step - loss: 0.0736 - f1-score: 0.9268 - val_loss: 0.1222 - val_f1-score: 0.8804\n",
            "Epoch 52/100\n",
            "77/77 [==============================] - 15s 189ms/step - loss: 0.0747 - f1-score: 0.9257 - val_loss: 0.1229 - val_f1-score: 0.8797\n",
            "Epoch 53/100\n",
            "77/77 [==============================] - 15s 190ms/step - loss: 0.0747 - f1-score: 0.9258 - val_loss: 0.1234 - val_f1-score: 0.8792\n",
            "Epoch 54/100\n",
            "77/77 [==============================] - 15s 189ms/step - loss: 0.0734 - f1-score: 0.9270 - val_loss: 0.1305 - val_f1-score: 0.8723\n",
            "Epoch 55/100\n",
            "77/77 [==============================] - 14s 183ms/step - loss: 0.0892 - f1-score: 0.9113 - val_loss: 0.1173 - val_f1-score: 0.8852\n",
            "Epoch 56/100\n",
            "77/77 [==============================] - 14s 186ms/step - loss: 0.0725 - f1-score: 0.9279 - val_loss: 0.1393 - val_f1-score: 0.8640\n",
            "Epoch 57/100\n",
            "77/77 [==============================] - 16s 203ms/step - loss: 0.0687 - f1-score: 0.9317 - val_loss: 0.1371 - val_f1-score: 0.8659\n",
            "Epoch 58/100\n",
            "77/77 [==============================] - 16s 204ms/step - loss: 0.0685 - f1-score: 0.9319 - val_loss: 0.1288 - val_f1-score: 0.8740\n",
            "Epoch 59/100\n",
            "77/77 [==============================] - 15s 190ms/step - loss: 0.0732 - f1-score: 0.9273 - val_loss: 0.1316 - val_f1-score: 0.8714\n",
            "Epoch 60/100\n",
            "77/77 [==============================] - 15s 190ms/step - loss: 0.0719 - f1-score: 0.9286 - val_loss: 0.1195 - val_f1-score: 0.8831\n",
            "Epoch 61/100\n",
            "77/77 [==============================] - 15s 190ms/step - loss: 0.0649 - f1-score: 0.9355 - val_loss: 0.1217 - val_f1-score: 0.8809\n",
            "Epoch 62/100\n",
            "77/77 [==============================] - 15s 190ms/step - loss: 0.0645 - f1-score: 0.9359 - val_loss: 0.1156 - val_f1-score: 0.8869\n",
            "Epoch 63/100\n",
            "77/77 [==============================] - 15s 190ms/step - loss: 0.0689 - f1-score: 0.9315 - val_loss: 0.1147 - val_f1-score: 0.8877\n",
            "Epoch 64/100\n",
            "77/77 [==============================] - 15s 190ms/step - loss: 0.0611 - f1-score: 0.9393 - val_loss: 0.1130 - val_f1-score: 0.8893\n",
            "Epoch 65/100\n",
            "77/77 [==============================] - 15s 190ms/step - loss: 0.0640 - f1-score: 0.9364 - val_loss: 0.1201 - val_f1-score: 0.8825\n",
            "Epoch 66/100\n",
            "77/77 [==============================] - 15s 189ms/step - loss: 0.0721 - f1-score: 0.9283 - val_loss: 0.1227 - val_f1-score: 0.8800\n",
            "Epoch 67/100\n",
            "77/77 [==============================] - 15s 190ms/step - loss: 0.0617 - f1-score: 0.9387 - val_loss: 0.1425 - val_f1-score: 0.8606\n",
            "Epoch 68/100\n",
            "77/77 [==============================] - 15s 190ms/step - loss: 0.0594 - f1-score: 0.9410 - val_loss: 0.1301 - val_f1-score: 0.8726\n",
            "Epoch 69/100\n",
            "77/77 [==============================] - 14s 181ms/step - loss: 0.0663 - f1-score: 0.9341 - val_loss: 0.1191 - val_f1-score: 0.8836\n",
            "Epoch 70/100\n",
            "77/77 [==============================] - 14s 181ms/step - loss: 0.0623 - f1-score: 0.9381 - val_loss: 0.1149 - val_f1-score: 0.8876\n",
            "Epoch 71/100\n",
            "77/77 [==============================] - 15s 190ms/step - loss: 0.0583 - f1-score: 0.9421 - val_loss: 0.1229 - val_f1-score: 0.8796\n",
            "Epoch 72/100\n",
            "77/77 [==============================] - 15s 190ms/step - loss: 0.0645 - f1-score: 0.9359 - val_loss: 0.1128 - val_f1-score: 0.8896\n",
            "Epoch 73/100\n",
            "77/77 [==============================] - 15s 190ms/step - loss: 0.0605 - f1-score: 0.9399 - val_loss: 0.1087 - val_f1-score: 0.8937\n",
            "Epoch 74/100\n",
            "77/77 [==============================] - 15s 190ms/step - loss: 0.0639 - f1-score: 0.9365 - val_loss: 0.1238 - val_f1-score: 0.8790\n",
            "Epoch 75/100\n",
            "77/77 [==============================] - 14s 181ms/step - loss: 0.0633 - f1-score: 0.9371 - val_loss: 0.1163 - val_f1-score: 0.8860\n",
            "Epoch 76/100\n",
            "77/77 [==============================] - 14s 181ms/step - loss: 0.0776 - f1-score: 0.9228 - val_loss: 0.1473 - val_f1-score: 0.8556\n",
            "Epoch 77/100\n",
            "77/77 [==============================] - 14s 186ms/step - loss: 0.0746 - f1-score: 0.9259 - val_loss: 0.1047 - val_f1-score: 0.8976\n",
            "Epoch 78/100\n",
            "77/77 [==============================] - 15s 190ms/step - loss: 0.0586 - f1-score: 0.9418 - val_loss: 0.1030 - val_f1-score: 0.8992\n",
            "Epoch 79/100\n",
            "77/77 [==============================] - 15s 190ms/step - loss: 0.0548 - f1-score: 0.9456 - val_loss: 0.1044 - val_f1-score: 0.8979\n",
            "Epoch 80/100\n",
            "77/77 [==============================] - 14s 187ms/step - loss: 0.0601 - f1-score: 0.9404 - val_loss: 0.1172 - val_f1-score: 0.8855\n",
            "Epoch 81/100\n",
            "77/77 [==============================] - 15s 190ms/step - loss: 0.0661 - f1-score: 0.9343 - val_loss: 0.1005 - val_f1-score: 0.9016\n",
            "Epoch 82/100\n",
            "77/77 [==============================] - 14s 181ms/step - loss: 0.0567 - f1-score: 0.9437 - val_loss: 0.1054 - val_f1-score: 0.8969\n",
            "Epoch 83/100\n",
            "77/77 [==============================] - 15s 190ms/step - loss: 0.0548 - f1-score: 0.9455 - val_loss: 0.1140 - val_f1-score: 0.8884\n",
            "Epoch 84/100\n",
            "77/77 [==============================] - 15s 190ms/step - loss: 0.0536 - f1-score: 0.9468 - val_loss: 0.1097 - val_f1-score: 0.8928\n",
            "Epoch 85/100\n",
            "77/77 [==============================] - 15s 190ms/step - loss: 0.0552 - f1-score: 0.9452 - val_loss: 0.1110 - val_f1-score: 0.8916\n",
            "Epoch 86/100\n",
            "77/77 [==============================] - 14s 182ms/step - loss: 0.0504 - f1-score: 0.9499 - val_loss: 0.1079 - val_f1-score: 0.8943\n",
            "Epoch 87/100\n",
            "77/77 [==============================] - 14s 181ms/step - loss: 0.0550 - f1-score: 0.9454 - val_loss: 0.1114 - val_f1-score: 0.8912\n",
            "Epoch 88/100\n",
            "77/77 [==============================] - 15s 190ms/step - loss: 0.0471 - f1-score: 0.9533 - val_loss: 0.1106 - val_f1-score: 0.8919\n",
            "Epoch 89/100\n",
            "77/77 [==============================] - 15s 190ms/step - loss: 0.0478 - f1-score: 0.9525 - val_loss: 0.1090 - val_f1-score: 0.8933\n",
            "Epoch 90/100\n",
            "77/77 [==============================] - 15s 190ms/step - loss: 0.0490 - f1-score: 0.9513 - val_loss: 0.1242 - val_f1-score: 0.8785\n",
            "Epoch 91/100\n",
            "77/77 [==============================] - 15s 190ms/step - loss: 0.0533 - f1-score: 0.9470 - val_loss: 0.1216 - val_f1-score: 0.8811\n",
            "Epoch 92/100\n",
            "77/77 [==============================] - 15s 190ms/step - loss: 0.0476 - f1-score: 0.9528 - val_loss: 0.1513 - val_f1-score: 0.8523\n",
            "Epoch 93/100\n",
            "77/77 [==============================] - 15s 190ms/step - loss: 0.0596 - f1-score: 0.9409 - val_loss: 0.1169 - val_f1-score: 0.8858\n",
            "Epoch 94/100\n",
            "77/77 [==============================] - 15s 190ms/step - loss: 0.0539 - f1-score: 0.9465 - val_loss: 0.1565 - val_f1-score: 0.8470\n",
            "Epoch 95/100\n",
            "77/77 [==============================] - 14s 186ms/step - loss: 0.0457 - f1-score: 0.9547 - val_loss: 0.1196 - val_f1-score: 0.8831\n",
            "Epoch 96/100\n",
            "77/77 [==============================] - 14s 188ms/step - loss: 0.0455 - f1-score: 0.9548 - val_loss: 0.1097 - val_f1-score: 0.8928\n",
            "1/1 [==============================] - 0s 336ms/step\n",
            "1/1 [==============================] - 0s 19ms/step\n",
            "1/1 [==============================] - 0s 18ms/step\n",
            "1/1 [==============================] - 0s 18ms/step\n",
            "1/1 [==============================] - 0s 18ms/step\n",
            "1/1 [==============================] - 0s 18ms/step\n",
            "1/1 [==============================] - 0s 19ms/step\n",
            "1/1 [==============================] - 0s 19ms/step\n",
            "1/1 [==============================] - 0s 18ms/step\n",
            "1/1 [==============================] - 0s 19ms/step\n",
            "1/1 [==============================] - 0s 18ms/step\n",
            "1/1 [==============================] - 0s 18ms/step\n",
            "1/1 [==============================] - 0s 18ms/step\n",
            "1/1 [==============================] - 0s 18ms/step\n",
            "1/1 [==============================] - 0s 18ms/step\n",
            "1/1 [==============================] - 0s 18ms/step\n",
            "1/1 [==============================] - 0s 18ms/step\n",
            "1/1 [==============================] - 0s 18ms/step\n",
            "1/1 [==============================] - 0s 18ms/step\n",
            "1/1 [==============================] - 0s 17ms/step\n",
            "1/1 [==============================] - 0s 20ms/step\n",
            "1/1 [==============================] - 0s 19ms/step\n",
            "1/1 [==============================] - 0s 19ms/step\n",
            "1/1 [==============================] - 0s 19ms/step\n",
            "1/1 [==============================] - 0s 18ms/step\n",
            "1/1 [==============================] - 0s 19ms/step\n",
            "1/1 [==============================] - 0s 19ms/step\n",
            "1/1 [==============================] - 0s 19ms/step\n",
            "1/1 [==============================] - 0s 19ms/step\n",
            "1/1 [==============================] - 0s 19ms/step\n",
            "1/1 [==============================] - 0s 18ms/step\n",
            "1/1 [==============================] - 0s 19ms/step\n",
            "1/1 [==============================] - 0s 18ms/step\n",
            "1/1 [==============================] - 0s 18ms/step\n",
            "1/1 [==============================] - 0s 18ms/step\n",
            "1/1 [==============================] - 0s 19ms/step\n",
            "1/1 [==============================] - 0s 18ms/step\n",
            "1/1 [==============================] - 0s 18ms/step\n",
            "1/1 [==============================] - 0s 18ms/step\n",
            "Average of validation folds Dice Scores: 0.8859423964824188\n"
          ]
        },
        {
          "name": "stderr",
          "output_type": "stream",
          "text": [
            "WARNING:absl:Found untraced functions such as _jit_compiled_convolution_op, _jit_compiled_convolution_op, _jit_compiled_convolution_op, _jit_compiled_convolution_op, _jit_compiled_convolution_op while saving (showing 5 of 40). These functions will not be directly callable after loading.\n"
          ]
        },
        {
          "name": "stdout",
          "output_type": "stream",
          "text": [
            "INFO:tensorflow:Assets written to: C:\\Users\\joona\\Documents\\LUT\\bsc_thesis\\kfold_cv_models\\fold_3\\assets\n"
          ]
        },
        {
          "name": "stderr",
          "output_type": "stream",
          "text": [
            "INFO:tensorflow:Assets written to: C:\\Users\\joona\\Documents\\LUT\\bsc_thesis\\kfold_cv_models\\fold_3\\assets\n"
          ]
        },
        {
          "name": "stdout",
          "output_type": "stream",
          "text": [
            "Training data\n",
            "Dimensions: (155, 64, 64, 64)\n",
            "Max-value: 10.592862129211426\n",
            "Min-value: -1.4170646667480469\n",
            "Test data\n",
            "Dimensions: (38, 64, 64, 64)\n",
            "Max-value: 9.554264068603516\n",
            "Min-value: -1.3901468515396118\n",
            "Epoch 1/100\n",
            "78/78 [==============================] - 18s 201ms/step - loss: 1.0513 - f1-score: 8.5341e-04 - val_loss: 1.0879 - val_f1-score: 0.0014\n",
            "Epoch 2/100\n",
            "78/78 [==============================] - 15s 187ms/step - loss: 0.9461 - f1-score: 0.0588 - val_loss: 1.0029 - val_f1-score: 0.0019\n",
            "Epoch 3/100\n",
            "78/78 [==============================] - 14s 182ms/step - loss: 0.3311 - f1-score: 0.6688 - val_loss: 1.0007 - val_f1-score: 0.0042\n",
            "Epoch 4/100\n",
            "78/78 [==============================] - 15s 187ms/step - loss: 0.2458 - f1-score: 0.7510 - val_loss: 0.7843 - val_f1-score: 0.2194\n",
            "Epoch 5/100\n",
            "78/78 [==============================] - 15s 188ms/step - loss: 0.2168 - f1-score: 0.7829 - val_loss: 0.2985 - val_f1-score: 0.7026\n",
            "Epoch 6/100\n",
            "78/78 [==============================] - 15s 187ms/step - loss: 0.2049 - f1-score: 0.7964 - val_loss: 0.2017 - val_f1-score: 0.7991\n",
            "Epoch 7/100\n",
            "78/78 [==============================] - 15s 188ms/step - loss: 0.1813 - f1-score: 0.8191 - val_loss: 0.2365 - val_f1-score: 0.7646\n",
            "Epoch 8/100\n",
            "78/78 [==============================] - 15s 189ms/step - loss: 0.1575 - f1-score: 0.8428 - val_loss: 0.1869 - val_f1-score: 0.8139\n",
            "Epoch 9/100\n",
            "78/78 [==============================] - 15s 188ms/step - loss: 0.1656 - f1-score: 0.8345 - val_loss: 0.1907 - val_f1-score: 0.8102\n",
            "Epoch 10/100\n",
            "78/78 [==============================] - 15s 189ms/step - loss: 0.1636 - f1-score: 0.8363 - val_loss: 0.1842 - val_f1-score: 0.8166\n",
            "Epoch 11/100\n",
            "78/78 [==============================] - 15s 199ms/step - loss: 0.1498 - f1-score: 0.8497 - val_loss: 0.1633 - val_f1-score: 0.8375\n",
            "Epoch 12/100\n",
            "78/78 [==============================] - 15s 189ms/step - loss: 0.1415 - f1-score: 0.8587 - val_loss: 0.1688 - val_f1-score: 0.8320\n",
            "Epoch 13/100\n",
            "78/78 [==============================] - 14s 181ms/step - loss: 0.1310 - f1-score: 0.8700 - val_loss: 0.1530 - val_f1-score: 0.8478\n",
            "Epoch 14/100\n",
            "78/78 [==============================] - 15s 189ms/step - loss: 0.1319 - f1-score: 0.8679 - val_loss: 0.1496 - val_f1-score: 0.8510\n",
            "Epoch 15/100\n",
            "78/78 [==============================] - 15s 189ms/step - loss: 0.1284 - f1-score: 0.8722 - val_loss: 0.1484 - val_f1-score: 0.8523\n",
            "Epoch 16/100\n",
            "78/78 [==============================] - 15s 189ms/step - loss: 0.1120 - f1-score: 0.8879 - val_loss: 0.1395 - val_f1-score: 0.8612\n",
            "Epoch 17/100\n",
            "78/78 [==============================] - 15s 189ms/step - loss: 0.1150 - f1-score: 0.8856 - val_loss: 0.1539 - val_f1-score: 0.8468\n",
            "Epoch 18/100\n",
            "78/78 [==============================] - 15s 189ms/step - loss: 0.1161 - f1-score: 0.8838 - val_loss: 0.1416 - val_f1-score: 0.8591\n",
            "Epoch 19/100\n",
            "78/78 [==============================] - 15s 189ms/step - loss: 0.1051 - f1-score: 0.8957 - val_loss: 0.1465 - val_f1-score: 0.8542\n",
            "Epoch 20/100\n",
            "78/78 [==============================] - 14s 183ms/step - loss: 0.1103 - f1-score: 0.8891 - val_loss: 0.1307 - val_f1-score: 0.8700\n",
            "Epoch 21/100\n",
            "78/78 [==============================] - 15s 189ms/step - loss: 0.1095 - f1-score: 0.8908 - val_loss: 0.1467 - val_f1-score: 0.8540\n",
            "Epoch 22/100\n",
            "78/78 [==============================] - 15s 189ms/step - loss: 0.1039 - f1-score: 0.8963 - val_loss: 0.1264 - val_f1-score: 0.8743\n",
            "Epoch 23/100\n",
            "78/78 [==============================] - 15s 189ms/step - loss: 0.0999 - f1-score: 0.9003 - val_loss: 0.1269 - val_f1-score: 0.8738\n",
            "Epoch 24/100\n",
            "78/78 [==============================] - 15s 189ms/step - loss: 0.0906 - f1-score: 0.9101 - val_loss: 0.1206 - val_f1-score: 0.8801\n",
            "Epoch 25/100\n",
            "78/78 [==============================] - 15s 189ms/step - loss: 0.0893 - f1-score: 0.9109 - val_loss: 0.1277 - val_f1-score: 0.8730\n",
            "Epoch 26/100\n",
            "78/78 [==============================] - 15s 188ms/step - loss: 0.1050 - f1-score: 0.8950 - val_loss: 0.1263 - val_f1-score: 0.8744\n",
            "Epoch 27/100\n",
            "78/78 [==============================] - 15s 189ms/step - loss: 0.0938 - f1-score: 0.9071 - val_loss: 0.1184 - val_f1-score: 0.8824\n",
            "Epoch 28/100\n",
            "78/78 [==============================] - 15s 189ms/step - loss: 0.1048 - f1-score: 0.8958 - val_loss: 0.1867 - val_f1-score: 0.8142\n",
            "Epoch 29/100\n",
            "78/78 [==============================] - 15s 189ms/step - loss: 0.0949 - f1-score: 0.9054 - val_loss: 0.1231 - val_f1-score: 0.8777\n",
            "Epoch 30/100\n",
            "78/78 [==============================] - 15s 189ms/step - loss: 0.0814 - f1-score: 0.9187 - val_loss: 0.1196 - val_f1-score: 0.8813\n",
            "Epoch 31/100\n",
            "78/78 [==============================] - 15s 189ms/step - loss: 0.1120 - f1-score: 0.8890 - val_loss: 0.1550 - val_f1-score: 0.8460\n",
            "Epoch 32/100\n",
            "78/78 [==============================] - 15s 189ms/step - loss: 0.1069 - f1-score: 0.8937 - val_loss: 0.1313 - val_f1-score: 0.8696\n",
            "Epoch 33/100\n",
            "78/78 [==============================] - 15s 189ms/step - loss: 0.0884 - f1-score: 0.9113 - val_loss: 0.1510 - val_f1-score: 0.8497\n",
            "Epoch 34/100\n",
            "78/78 [==============================] - 14s 181ms/step - loss: 0.0816 - f1-score: 0.9186 - val_loss: 0.1124 - val_f1-score: 0.8883\n",
            "Epoch 35/100\n",
            "78/78 [==============================] - 14s 180ms/step - loss: 0.0818 - f1-score: 0.9189 - val_loss: 0.1145 - val_f1-score: 0.8862\n",
            "Epoch 36/100\n",
            "78/78 [==============================] - 15s 189ms/step - loss: 0.0775 - f1-score: 0.9231 - val_loss: 0.1112 - val_f1-score: 0.8895\n",
            "Epoch 37/100\n",
            "78/78 [==============================] - 15s 189ms/step - loss: 0.0743 - f1-score: 0.9257 - val_loss: 0.1104 - val_f1-score: 0.8904\n",
            "Epoch 38/100\n",
            "78/78 [==============================] - 14s 181ms/step - loss: 0.0764 - f1-score: 0.9239 - val_loss: 0.1096 - val_f1-score: 0.8912\n",
            "Epoch 39/100\n",
            "78/78 [==============================] - 14s 180ms/step - loss: 0.0781 - f1-score: 0.9222 - val_loss: 0.1143 - val_f1-score: 0.8866\n",
            "Epoch 40/100\n",
            "78/78 [==============================] - 15s 189ms/step - loss: 0.0709 - f1-score: 0.9292 - val_loss: 0.1064 - val_f1-score: 0.8943\n",
            "Epoch 41/100\n",
            "78/78 [==============================] - 15s 189ms/step - loss: 0.0764 - f1-score: 0.9243 - val_loss: 0.1164 - val_f1-score: 0.8843\n",
            "Epoch 42/100\n",
            "78/78 [==============================] - 14s 181ms/step - loss: 0.0669 - f1-score: 0.9333 - val_loss: 0.1044 - val_f1-score: 0.8963\n",
            "Epoch 43/100\n",
            "78/78 [==============================] - 15s 188ms/step - loss: 0.0663 - f1-score: 0.9342 - val_loss: 0.1072 - val_f1-score: 0.8936\n",
            "Epoch 44/100\n",
            "78/78 [==============================] - 15s 189ms/step - loss: 0.0668 - f1-score: 0.9337 - val_loss: 0.1156 - val_f1-score: 0.8851\n",
            "Epoch 45/100\n",
            "78/78 [==============================] - 15s 187ms/step - loss: 0.0702 - f1-score: 0.9304 - val_loss: 0.1230 - val_f1-score: 0.8777\n",
            "Epoch 46/100\n",
            "78/78 [==============================] - 15s 189ms/step - loss: 0.0640 - f1-score: 0.9365 - val_loss: 0.0990 - val_f1-score: 0.9017\n",
            "Epoch 47/100\n",
            "78/78 [==============================] - 15s 188ms/step - loss: 0.0633 - f1-score: 0.9372 - val_loss: 0.1050 - val_f1-score: 0.8957\n",
            "Epoch 48/100\n",
            "78/78 [==============================] - 15s 189ms/step - loss: 0.0616 - f1-score: 0.9385 - val_loss: 0.1157 - val_f1-score: 0.8850\n",
            "Epoch 49/100\n",
            "78/78 [==============================] - 15s 189ms/step - loss: 0.0627 - f1-score: 0.9378 - val_loss: 0.1170 - val_f1-score: 0.8837\n",
            "Epoch 50/100\n",
            "78/78 [==============================] - 15s 188ms/step - loss: 0.0617 - f1-score: 0.9387 - val_loss: 0.1218 - val_f1-score: 0.8790\n",
            "Epoch 51/100\n",
            "78/78 [==============================] - 15s 189ms/step - loss: 0.0602 - f1-score: 0.9403 - val_loss: 0.1185 - val_f1-score: 0.8823\n",
            "Epoch 52/100\n",
            "78/78 [==============================] - 15s 188ms/step - loss: 0.0587 - f1-score: 0.9417 - val_loss: 0.1096 - val_f1-score: 0.8911\n",
            "Epoch 53/100\n",
            "78/78 [==============================] - 15s 189ms/step - loss: 0.0575 - f1-score: 0.9429 - val_loss: 0.1232 - val_f1-score: 0.8776\n",
            "Epoch 54/100\n",
            "78/78 [==============================] - 15s 189ms/step - loss: 0.0556 - f1-score: 0.9448 - val_loss: 0.1118 - val_f1-score: 0.8890\n",
            "Epoch 55/100\n",
            "78/78 [==============================] - 15s 188ms/step - loss: 0.0549 - f1-score: 0.9455 - val_loss: 0.1081 - val_f1-score: 0.8927\n",
            "Epoch 56/100\n",
            "78/78 [==============================] - 14s 180ms/step - loss: 0.0552 - f1-score: 0.9454 - val_loss: 0.1056 - val_f1-score: 0.8952\n",
            "Epoch 57/100\n",
            "78/78 [==============================] - 15s 189ms/step - loss: 0.0549 - f1-score: 0.9453 - val_loss: 0.1232 - val_f1-score: 0.8776\n",
            "Epoch 58/100\n",
            "78/78 [==============================] - 14s 186ms/step - loss: 0.0571 - f1-score: 0.9434 - val_loss: 0.1154 - val_f1-score: 0.8854\n",
            "Epoch 59/100\n",
            "78/78 [==============================] - 15s 189ms/step - loss: 0.0525 - f1-score: 0.9480 - val_loss: 0.1192 - val_f1-score: 0.8816\n",
            "Epoch 60/100\n",
            "78/78 [==============================] - 15s 189ms/step - loss: 0.0540 - f1-score: 0.9462 - val_loss: 0.1118 - val_f1-score: 0.8892\n",
            "Epoch 61/100\n",
            "78/78 [==============================] - 15s 189ms/step - loss: 0.0605 - f1-score: 0.9400 - val_loss: 0.1972 - val_f1-score: 0.8039\n",
            "1/1 [==============================] - 0s 337ms/step\n",
            "1/1 [==============================] - 0s 18ms/step\n",
            "1/1 [==============================] - 0s 19ms/step\n",
            "1/1 [==============================] - 0s 18ms/step\n",
            "1/1 [==============================] - 0s 19ms/step\n",
            "1/1 [==============================] - 0s 18ms/step\n",
            "1/1 [==============================] - 0s 18ms/step\n",
            "1/1 [==============================] - 0s 18ms/step\n",
            "1/1 [==============================] - 0s 18ms/step\n",
            "1/1 [==============================] - 0s 18ms/step\n",
            "1/1 [==============================] - 0s 18ms/step\n",
            "1/1 [==============================] - 0s 19ms/step\n",
            "1/1 [==============================] - 0s 18ms/step\n",
            "1/1 [==============================] - 0s 19ms/step\n",
            "1/1 [==============================] - 0s 18ms/step\n",
            "1/1 [==============================] - 0s 18ms/step\n",
            "1/1 [==============================] - 0s 19ms/step\n",
            "1/1 [==============================] - 0s 18ms/step\n",
            "1/1 [==============================] - 0s 18ms/step\n",
            "1/1 [==============================] - 0s 19ms/step\n",
            "1/1 [==============================] - 0s 18ms/step\n",
            "1/1 [==============================] - 0s 18ms/step\n",
            "1/1 [==============================] - 0s 19ms/step\n",
            "1/1 [==============================] - 0s 18ms/step\n",
            "1/1 [==============================] - 0s 19ms/step\n",
            "1/1 [==============================] - 0s 18ms/step\n",
            "1/1 [==============================] - 0s 18ms/step\n",
            "1/1 [==============================] - 0s 18ms/step\n",
            "1/1 [==============================] - 0s 19ms/step\n",
            "1/1 [==============================] - 0s 18ms/step\n",
            "1/1 [==============================] - 0s 19ms/step\n",
            "1/1 [==============================] - 0s 18ms/step\n",
            "1/1 [==============================] - 0s 19ms/step\n",
            "1/1 [==============================] - 0s 18ms/step\n",
            "1/1 [==============================] - 0s 18ms/step\n",
            "1/1 [==============================] - 0s 19ms/step\n",
            "1/1 [==============================] - 0s 19ms/step\n",
            "1/1 [==============================] - 0s 19ms/step\n",
            "Average of validation folds Dice Scores: 0.8956755745124694\n"
          ]
        },
        {
          "name": "stderr",
          "output_type": "stream",
          "text": [
            "WARNING:absl:Found untraced functions such as _jit_compiled_convolution_op, _jit_compiled_convolution_op, _jit_compiled_convolution_op, _jit_compiled_convolution_op, _jit_compiled_convolution_op while saving (showing 5 of 40). These functions will not be directly callable after loading.\n"
          ]
        },
        {
          "name": "stdout",
          "output_type": "stream",
          "text": [
            "INFO:tensorflow:Assets written to: C:\\Users\\joona\\Documents\\LUT\\bsc_thesis\\kfold_cv_models\\fold_4\\assets\n"
          ]
        },
        {
          "name": "stderr",
          "output_type": "stream",
          "text": [
            "INFO:tensorflow:Assets written to: C:\\Users\\joona\\Documents\\LUT\\bsc_thesis\\kfold_cv_models\\fold_4\\assets\n"
          ]
        },
        {
          "name": "stdout",
          "output_type": "stream",
          "text": [
            "Training data\n",
            "Dimensions: (155, 64, 64, 64)\n",
            "Max-value: 10.325362205505371\n",
            "Min-value: -1.4170646667480469\n",
            "Test data\n",
            "Dimensions: (38, 64, 64, 64)\n",
            "Max-value: 10.592862129211426\n",
            "Min-value: -1.2743159532546997\n",
            "Epoch 1/100\n",
            "78/78 [==============================] - 17s 194ms/step - loss: 1.0787 - f1-score: 9.2847e-04 - val_loss: 1.0917 - val_f1-score: 0.0010\n",
            "Epoch 2/100\n",
            "78/78 [==============================] - 15s 188ms/step - loss: 1.0026 - f1-score: 0.0022 - val_loss: 1.0137 - val_f1-score: 0.0018\n",
            "Epoch 3/100\n",
            "78/78 [==============================] - 15s 188ms/step - loss: 0.9687 - f1-score: 0.0355 - val_loss: 0.9736 - val_f1-score: 0.0298\n",
            "Epoch 4/100\n",
            "78/78 [==============================] - 15s 188ms/step - loss: 0.6942 - f1-score: 0.3114 - val_loss: 0.7175 - val_f1-score: 0.2843\n",
            "Epoch 5/100\n",
            "78/78 [==============================] - 15s 188ms/step - loss: 0.3144 - f1-score: 0.6867 - val_loss: 0.2947 - val_f1-score: 0.7060\n",
            "Epoch 6/100\n",
            "78/78 [==============================] - 15s 187ms/step - loss: 0.2774 - f1-score: 0.7245 - val_loss: 0.4293 - val_f1-score: 0.5724\n",
            "Epoch 7/100\n",
            "78/78 [==============================] - 15s 189ms/step - loss: 0.2275 - f1-score: 0.7733 - val_loss: 0.2031 - val_f1-score: 0.7977\n",
            "Epoch 8/100\n",
            "78/78 [==============================] - 15s 189ms/step - loss: 0.1957 - f1-score: 0.8054 - val_loss: 0.1833 - val_f1-score: 0.8174\n",
            "Epoch 9/100\n",
            "78/78 [==============================] - 14s 184ms/step - loss: 0.1825 - f1-score: 0.8182 - val_loss: 0.1947 - val_f1-score: 0.8060\n",
            "Epoch 10/100\n",
            "78/78 [==============================] - 15s 189ms/step - loss: 0.1801 - f1-score: 0.8212 - val_loss: 0.1756 - val_f1-score: 0.8251\n",
            "Epoch 11/100\n",
            "78/78 [==============================] - 15s 189ms/step - loss: 0.1674 - f1-score: 0.8338 - val_loss: 0.1722 - val_f1-score: 0.8285\n",
            "Epoch 12/100\n",
            "78/78 [==============================] - 15s 189ms/step - loss: 0.1412 - f1-score: 0.8589 - val_loss: 0.1676 - val_f1-score: 0.8332\n",
            "Epoch 13/100\n",
            "78/78 [==============================] - 15s 189ms/step - loss: 0.1534 - f1-score: 0.8481 - val_loss: 0.1694 - val_f1-score: 0.8314\n",
            "Epoch 14/100\n",
            "78/78 [==============================] - 15s 189ms/step - loss: 0.1411 - f1-score: 0.8592 - val_loss: 0.1567 - val_f1-score: 0.8439\n",
            "Epoch 15/100\n",
            "78/78 [==============================] - 14s 181ms/step - loss: 0.1360 - f1-score: 0.8649 - val_loss: 0.1446 - val_f1-score: 0.8560\n",
            "Epoch 16/100\n",
            "78/78 [==============================] - 15s 189ms/step - loss: 0.1421 - f1-score: 0.8588 - val_loss: 0.1616 - val_f1-score: 0.8392\n",
            "Epoch 17/100\n",
            "78/78 [==============================] - 15s 188ms/step - loss: 0.1468 - f1-score: 0.8504 - val_loss: 0.2156 - val_f1-score: 0.7856\n",
            "Epoch 18/100\n",
            "78/78 [==============================] - 14s 181ms/step - loss: 0.1383 - f1-score: 0.8613 - val_loss: 0.1539 - val_f1-score: 0.8468\n",
            "Epoch 19/100\n",
            "78/78 [==============================] - 15s 189ms/step - loss: 0.1248 - f1-score: 0.8762 - val_loss: 0.1426 - val_f1-score: 0.8580\n",
            "Epoch 20/100\n",
            "78/78 [==============================] - 15s 189ms/step - loss: 0.1194 - f1-score: 0.8805 - val_loss: 0.1574 - val_f1-score: 0.8432\n",
            "Epoch 21/100\n",
            "78/78 [==============================] - 15s 188ms/step - loss: 0.1265 - f1-score: 0.8739 - val_loss: 0.1456 - val_f1-score: 0.8551\n",
            "Epoch 22/100\n",
            "78/78 [==============================] - 15s 189ms/step - loss: 0.1139 - f1-score: 0.8864 - val_loss: 0.1381 - val_f1-score: 0.8626\n",
            "Epoch 23/100\n",
            "78/78 [==============================] - 15s 189ms/step - loss: 0.1122 - f1-score: 0.8880 - val_loss: 0.1376 - val_f1-score: 0.8630\n",
            "Epoch 24/100\n",
            "78/78 [==============================] - 15s 188ms/step - loss: 0.1069 - f1-score: 0.8939 - val_loss: 0.1512 - val_f1-score: 0.8496\n",
            "Epoch 25/100\n",
            "78/78 [==============================] - 15s 188ms/step - loss: 0.1086 - f1-score: 0.8918 - val_loss: 0.1396 - val_f1-score: 0.8610\n",
            "Epoch 26/100\n",
            "78/78 [==============================] - 15s 189ms/step - loss: 0.1179 - f1-score: 0.8827 - val_loss: 0.1487 - val_f1-score: 0.8520\n",
            "Epoch 27/100\n",
            "78/78 [==============================] - 15s 189ms/step - loss: 0.1215 - f1-score: 0.8791 - val_loss: 0.1174 - val_f1-score: 0.8831\n",
            "Epoch 28/100\n",
            "78/78 [==============================] - 15s 189ms/step - loss: 0.1008 - f1-score: 0.8991 - val_loss: 0.1121 - val_f1-score: 0.8884\n",
            "Epoch 29/100\n",
            "78/78 [==============================] - 15s 189ms/step - loss: 0.1124 - f1-score: 0.8884 - val_loss: 0.1323 - val_f1-score: 0.8683\n",
            "Epoch 30/100\n",
            "78/78 [==============================] - 15s 189ms/step - loss: 0.1017 - f1-score: 0.8992 - val_loss: 0.1302 - val_f1-score: 0.8704\n",
            "Epoch 31/100\n",
            "78/78 [==============================] - 15s 189ms/step - loss: 0.0955 - f1-score: 0.9052 - val_loss: 0.1307 - val_f1-score: 0.8699\n",
            "Epoch 32/100\n",
            "78/78 [==============================] - 15s 188ms/step - loss: 0.1133 - f1-score: 0.8875 - val_loss: 0.1268 - val_f1-score: 0.8738\n",
            "Epoch 33/100\n",
            "78/78 [==============================] - 15s 189ms/step - loss: 0.1023 - f1-score: 0.8984 - val_loss: 0.1205 - val_f1-score: 0.8800\n",
            "Epoch 34/100\n",
            "78/78 [==============================] - 14s 182ms/step - loss: 0.0987 - f1-score: 0.9018 - val_loss: 0.1184 - val_f1-score: 0.8821\n",
            "Epoch 35/100\n",
            "78/78 [==============================] - 14s 182ms/step - loss: 0.0873 - f1-score: 0.9132 - val_loss: 0.1130 - val_f1-score: 0.8875\n",
            "Epoch 36/100\n",
            "78/78 [==============================] - 15s 189ms/step - loss: 0.0894 - f1-score: 0.9112 - val_loss: 0.1181 - val_f1-score: 0.8825\n",
            "Epoch 37/100\n",
            "78/78 [==============================] - 15s 189ms/step - loss: 0.0933 - f1-score: 0.9076 - val_loss: 0.1228 - val_f1-score: 0.8778\n",
            "Epoch 38/100\n",
            "78/78 [==============================] - 15s 189ms/step - loss: 0.0896 - f1-score: 0.9109 - val_loss: 0.1200 - val_f1-score: 0.8805\n",
            "Epoch 39/100\n",
            "78/78 [==============================] - 15s 189ms/step - loss: 0.0889 - f1-score: 0.9114 - val_loss: 0.1165 - val_f1-score: 0.8841\n",
            "Epoch 40/100\n",
            "78/78 [==============================] - 15s 189ms/step - loss: 0.1231 - f1-score: 0.8773 - val_loss: 0.1843 - val_f1-score: 0.8168\n",
            "Epoch 41/100\n",
            "78/78 [==============================] - 15s 189ms/step - loss: 0.1323 - f1-score: 0.8686 - val_loss: 0.1276 - val_f1-score: 0.8730\n",
            "Epoch 42/100\n",
            "78/78 [==============================] - 15s 189ms/step - loss: 0.0902 - f1-score: 0.9107 - val_loss: 0.1207 - val_f1-score: 0.8798\n",
            "Epoch 43/100\n",
            "78/78 [==============================] - 15s 187ms/step - loss: 0.0834 - f1-score: 0.9171 - val_loss: 0.1139 - val_f1-score: 0.8867\n",
            "1/1 [==============================] - 0s 331ms/step\n",
            "1/1 [==============================] - 0s 18ms/step\n",
            "1/1 [==============================] - 0s 18ms/step\n",
            "1/1 [==============================] - 0s 18ms/step\n",
            "1/1 [==============================] - 0s 18ms/step\n",
            "1/1 [==============================] - 0s 18ms/step\n",
            "1/1 [==============================] - 0s 18ms/step\n",
            "1/1 [==============================] - 0s 19ms/step\n",
            "1/1 [==============================] - 0s 18ms/step\n",
            "1/1 [==============================] - 0s 18ms/step\n",
            "1/1 [==============================] - 0s 18ms/step\n",
            "1/1 [==============================] - 0s 18ms/step\n",
            "1/1 [==============================] - 0s 18ms/step\n",
            "1/1 [==============================] - 0s 18ms/step\n",
            "1/1 [==============================] - 0s 18ms/step\n",
            "1/1 [==============================] - 0s 18ms/step\n",
            "1/1 [==============================] - 0s 19ms/step\n",
            "1/1 [==============================] - 0s 18ms/step\n",
            "1/1 [==============================] - 0s 18ms/step\n",
            "1/1 [==============================] - 0s 18ms/step\n",
            "1/1 [==============================] - 0s 19ms/step\n",
            "1/1 [==============================] - 0s 18ms/step\n",
            "1/1 [==============================] - 0s 18ms/step\n",
            "1/1 [==============================] - 0s 19ms/step\n",
            "1/1 [==============================] - 0s 19ms/step\n",
            "1/1 [==============================] - 0s 19ms/step\n",
            "1/1 [==============================] - 0s 18ms/step\n",
            "1/1 [==============================] - 0s 18ms/step\n",
            "1/1 [==============================] - 0s 18ms/step\n",
            "1/1 [==============================] - 0s 19ms/step\n",
            "1/1 [==============================] - 0s 19ms/step\n",
            "1/1 [==============================] - 0s 19ms/step\n",
            "1/1 [==============================] - 0s 18ms/step\n",
            "1/1 [==============================] - 0s 18ms/step\n",
            "1/1 [==============================] - 0s 18ms/step\n",
            "1/1 [==============================] - 0s 19ms/step\n",
            "1/1 [==============================] - 0s 18ms/step\n",
            "1/1 [==============================] - 0s 20ms/step\n",
            "Average of validation folds Dice Scores: 0.875863820454947\n"
          ]
        },
        {
          "name": "stderr",
          "output_type": "stream",
          "text": [
            "WARNING:absl:Found untraced functions such as _jit_compiled_convolution_op, _jit_compiled_convolution_op, _jit_compiled_convolution_op, _jit_compiled_convolution_op, _jit_compiled_convolution_op while saving (showing 5 of 40). These functions will not be directly callable after loading.\n"
          ]
        },
        {
          "name": "stdout",
          "output_type": "stream",
          "text": [
            "INFO:tensorflow:Assets written to: C:\\Users\\joona\\Documents\\LUT\\bsc_thesis\\kfold_cv_models\\fold_5\\assets\n"
          ]
        },
        {
          "name": "stderr",
          "output_type": "stream",
          "text": [
            "INFO:tensorflow:Assets written to: C:\\Users\\joona\\Documents\\LUT\\bsc_thesis\\kfold_cv_models\\fold_5\\assets\n"
          ]
        }
      ],
      "source": [
        "fold = 1\n",
        "for train_index, val_index in kf.split(X_train, Y_train):\n",
        "  # Split data\n",
        "  X_train_fold, X_val = X_train[train_index], X_train[val_index]\n",
        "  Y_train_fold, Y_val = Y_train[train_index], Y_train[val_index]\n",
        "  train_ids, val_ids = train_indices[train_index], train_indices[val_index]\n",
        "\n",
        "  print(\n",
        "      f\"Training data\\nDimensions: {X_train_fold.shape}\\nMax-value: {np.max(X_train_fold)}\\nMin-value: {np.min(X_train_fold)}\"\n",
        "  )\n",
        "  print(\n",
        "    f\"Test data\\nDimensions: {X_val.shape}\\nMax-value: {np.max(X_val)}\\nMin-value: {np.min(X_val)}\"\n",
        "  )\n",
        "  #model = build()\n",
        "  model = att_res_unet.build_unet(input_shape=(IMG_HEIGHT,IMG_WIDTH,IMG_DEPTH,IMG_CHANNELS))  # Try self built model\n",
        "  \n",
        "  dice_loss = sm.losses.DiceLoss()\n",
        "  bce_loss = sm.losses.BinaryCELoss()\n",
        "  total_loss = dice_loss + bce_loss\n",
        "\n",
        "\n",
        "  initial_learning_rate = 0.0001\n",
        "  lr_schedule = tf.keras.optimizers.schedules.ExponentialDecay(\n",
        "      initial_learning_rate, decay_steps=100000, decay_rate=0.96, staircase=True\n",
        "  )\n",
        "  model.compile(\n",
        "      optimizer=tf.keras.optimizers.Adam(learning_rate=lr_schedule),\n",
        "      loss=total_loss,\n",
        "      metrics=[sm.metrics.FScore()],\n",
        "  )\n",
        "  \n",
        "  cb = tf.keras.callbacks.EarlyStopping(\n",
        "    monitor=\"val_f1-score\", mode=\"max\", patience=15, restore_best_weights=True\n",
        "  )\n",
        "\n",
        "  history = model.fit(\n",
        "    X_train_fold, Y_train_fold, epochs=100, batch_size=2, validation_data=(X_val, Y_val), callbacks= [cb]\n",
        "  )\n",
        "\n",
        "  train_dice_list.append(history.history[\"f1-score\"])\n",
        "  val_dice_list.append(history.history[\"val_f1-score\"])\n",
        "\n",
        "  # Loop through each item, predict, and calculate scores\n",
        "\n",
        "  dice_scores = [] # list for containing an individual test folds dice scores\n",
        "\n",
        "  for i in range(X_val.shape[0]):\n",
        "      single_item = np.expand_dims(X_val[i], axis=0)\n",
        "      pred = model.predict(single_item)\n",
        "      pred_t = (pred > 0.5).squeeze()  #  remove any singleton dimensions\n",
        "      Y_val_single = Y_val[i]\n",
        "      dice_score = getScore(pred_t, Y_val_single)\n",
        "\n",
        "      dice_scores.append(dice_score)\n",
        "  print(f\"Average of validation folds Dice Scores: {np.mean(dice_scores)}\")\n",
        "  dataframes.append(build_dfs(val_ids, dice_scores))\n",
        "  model.save(r\"C:\\Users\\joona\\Documents\\LUT\\bsc_thesis\\kfold_cv_models\\fold_\"+ str(fold))\n",
        "  fold +=1\n"
      ]
    },
    {
      "cell_type": "code",
      "execution_count": 20,
      "metadata": {},
      "outputs": [
        {
          "data": {
            "image/png": "[encoded data removed]",
            "text/plain": [
              "<Figure size 1000x1000 with 1 Axes>"
            ]
          },
          "metadata": {},
          "output_type": "display_data"
        }
      ],
      "source": [
        "plt.figure(figsize=(10, 10))\n",
        "colors = [\"blue\", \"green\", \"red\", \"purple\", \"orange\"]  # Define colors for the curves\n",
        "for i, color in enumerate(colors):\n",
        "    plt.plot(train_dice_list[i], color=color, linestyle=\"-\")\n",
        "    plt.plot(val_dice_list[i], color=color, linestyle=\"--\")\n",
        "\n",
        "plt.title(\"Model Training Dice Score\")\n",
        "plt.ylabel(\"Dice Score\")\n",
        "plt.xlabel(\"Epoch\")\n",
        "plt.legend(\n",
        "    [\n",
        "        \"Train Fold 1\",\n",
        "        \"Val Fold 1\",\n",
        "        \"Train Fold 2\",\n",
        "        \"Val Fold 2\",\n",
        "        \"Train Fold 3\",\n",
        "        \"Val Fold 3\",\n",
        "        \"Train Fold 4\",\n",
        "        \"Val Fold 4\",\n",
        "        \"Train Fold 5\",\n",
        "        \"Val Fold 5\"\n",
        "    ],\n",
        "    loc=\"lower right\",\n",
        ")\n",
        "\n",
        "plt.show()"
      ]
    },
    {
      "cell_type": "markdown",
      "metadata": {},
      "source": [
        "Write the dataframes to an excel. "
      ]
    },
    {
      "cell_type": "code",
      "execution_count": 21,
      "metadata": {},
      "outputs": [],
      "source": [
        "with pd.ExcelWriter(\n",
        "    r\"C:\\Users\\joona\\Documents\\LUT\\bsc_thesis\\kfold_cv_models\\5_fold_CV_dfs.xlsx\"\n",
        ") as writer:\n",
        "    for i, df in enumerate(dataframes):\n",
        "        df.to_excel(writer, sheet_name=f\"Fold {i+1}\")"
      ]
    },
    {
      "cell_type": "markdown",
      "metadata": {},
      "source": [
        "Average of 5-fold cross-validation scores. "
      ]
    },
    {
      "cell_type": "code",
      "execution_count": 22,
      "metadata": {},
      "outputs": [
        {
          "name": "stdout",
          "output_type": "stream",
          "text": [
            "0.8800000000000001\n"
          ]
        }
      ],
      "source": [
        "dsc_sum = 0\n",
        "for i, dataframe in enumerate(dataframes):\n",
        "    dsc_sum += float(dataframe[\"Dice\"].iloc[-2])\n",
        "\n",
        "print((dsc_sum/len(dataframes)))"
      ]
    }
  ],
  "metadata": {
    "accelerator": "GPU",
    "colab": {
      "gpuType": "T4",
      "include_colab_link": true,
      "provenance": []
    },
    "kernelspec": {
      "display_name": "Python 3",
      "name": "python3"
    },
    "language_info": {
      "codemirror_mode": {
        "name": "ipython",
        "version": 3
      },
      "file_extension": ".py",
      "mimetype": "text/x-python",
      "name": "python",
      "nbconvert_exporter": "python",
      "pygments_lexer": "ipython3",
      "version": "3.10.11"
    },
    "orig_nbformat": 4
  },
  "nbformat": 4,
  "nbformat_minor": 0
}
